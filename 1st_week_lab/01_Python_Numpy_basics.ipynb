{
  "cells": [
    {
      "cell_type": "markdown",
      "metadata": {
        "id": "Y7XcN7oNLVAh"
      },
      "source": [
        "# Copyright\n",
        "\n",
        "<PRE>\n",
        "This notebook was created as part of the \"Deep learning / VITMMA19\" class at\n",
        "Budapest University of Technology and Economics, Hungary,\n",
        "https://portal.vik.bme.hu/kepzes/targyak/VITMMA19\n",
        "Based on the official documentation:\n",
        "https://numpy.org/doc/stable/user/quickstart.html\n",
        "\n",
        "Any re-use or publication of any part of the notebook is only allowed with the\n",
        " written consent of the authors.\n",
        "\n",
        "2024 (c) Mohammed Salah Al-Radhi, Tamás Gábor Csapó, Márk Császár,  Bálint Gyires-Tóth (toth.b kukac tmit pont bme pont hu)\n",
        "</PRE>"
      ]
    },
    {
      "cell_type": "markdown",
      "metadata": {
        "id": "uLA9POvLLVAp"
      },
      "source": [
        "# Numpy package"
      ]
    },
    {
      "cell_type": "markdown",
      "metadata": {
        "id": "6oP4a4seLVAq"
      },
      "source": [
        "One of the most commonly used Python packages for machine learning and thus deep learning is Numpy, which can be loaded with the following command and referred to later as np."
      ]
    },
    {
      "cell_type": "code",
      "execution_count": 1,
      "metadata": {
        "id": "VTAibb7FLVAr"
      },
      "outputs": [],
      "source": [
        "import numpy as np"
      ]
    },
    {
      "cell_type": "markdown",
      "metadata": {
        "id": "P9w_xy0ALVAs"
      },
      "source": [
        "Numpy is basically used to handle homogeneous, one- or multidimensional matrices (= arrays = tensors). The elements of these matrices are numbers of the same type, and their position within the array can be specified by positive integers."
      ]
    },
    {
      "cell_type": "markdown",
      "metadata": {
        "id": "3C_0U3tiLVAt"
      },
      "source": [
        "# Numpy arrays - properties\n"
      ]
    },
    {
      "cell_type": "markdown",
      "metadata": {
        "id": "3f2bQglyLVAt"
      },
      "source": [
        "Important, frequently used features:\n",
        "\n",
        "    ndarray.ndim - Dimension of the array.\n",
        "\n",
        "    ndarray.shape - The shape of the array, which gives the size of the array along each dimension. For 2 dimensional matrices, n rows and m columns will be a matrix shape (n,m).\n",
        "\n",
        "    ndarray.size - The number of elements in the array, equal to the product of the dimensions along each dimension.\n",
        "\n",
        "    ndarray.dtype - The type of elements in the array.\n",
        "\n",
        "Other notable features (we will rarely use these):\n",
        "\n",
        "    ndarray.itemsize - The size of each item, expressed in bytes, in accordance with the previously mentioned type.\n",
        "\n",
        "    ndarray.data - Buffer containing all the items in the array.\n"
      ]
    },
    {
      "cell_type": "markdown",
      "metadata": {
        "id": "3yJq9_keLVAu"
      },
      "source": [
        "# Numpy arrays - how to create"
      ]
    },
    {
      "cell_type": "markdown",
      "metadata": {
        "id": "ozgRCgMzLVAu"
      },
      "source": [
        "Data types relevant for deep learning systems:\n",
        "\n",
        "    bool_ (e.g. binary data)\n",
        "    \n",
        "    int_ (e.g. RGB channels of images)\n",
        "    \n",
        "    float_ (32 bits, general data)\n",
        "    \n",
        "    float16_ (16-bit, half-precision, general data): gaining more and more space because of its advantages (faster, more memory efficient and good for deep learning)"
      ]
    },
    {
      "cell_type": "markdown",
      "metadata": {
        "id": "ln8iN5TKLVAw"
      },
      "source": [
        "Wrong solution:"
      ]
    },
    {
      "cell_type": "code",
      "execution_count": 2,
      "metadata": {
        "colab": {
          "base_uri": "https://localhost:8080/",
          "height": 143
        },
        "id": "CgXSy9SKLVAx",
        "outputId": "b1cb96dc-5d7a-441e-fd01-d6ef329050a2"
      },
      "outputs": [
        {
          "output_type": "error",
          "ename": "TypeError",
          "evalue": "array() takes from 1 to 2 positional arguments but 4 were given",
          "traceback": [
            "\u001b[0;31m---------------------------------------------------------------------------\u001b[0m",
            "\u001b[0;31mTypeError\u001b[0m                                 Traceback (most recent call last)",
            "\u001b[0;32m<ipython-input-2-7681c71c58ae>\u001b[0m in \u001b[0;36m<cell line: 1>\u001b[0;34m()\u001b[0m\n\u001b[0;32m----> 1\u001b[0;31m \u001b[0ma\u001b[0m \u001b[0;34m=\u001b[0m \u001b[0mnp\u001b[0m\u001b[0;34m.\u001b[0m\u001b[0marray\u001b[0m\u001b[0;34m(\u001b[0m\u001b[0;36m1\u001b[0m\u001b[0;34m,\u001b[0m\u001b[0;36m2\u001b[0m\u001b[0;34m,\u001b[0m\u001b[0;36m3\u001b[0m\u001b[0;34m,\u001b[0m\u001b[0;36m4\u001b[0m\u001b[0;34m)\u001b[0m    \u001b[0;31m# WRONG\u001b[0m\u001b[0;34m\u001b[0m\u001b[0;34m\u001b[0m\u001b[0m\n\u001b[0m",
            "\u001b[0;31mTypeError\u001b[0m: array() takes from 1 to 2 positional arguments but 4 were given"
          ]
        }
      ],
      "source": [
        "a = np.array(1,2,3,4)    # WRONG\n"
      ]
    },
    {
      "cell_type": "markdown",
      "metadata": {
        "id": "ITAJw5HQLVA1"
      },
      "source": [
        "Right solution:"
      ]
    },
    {
      "cell_type": "code",
      "execution_count": 3,
      "metadata": {
        "colab": {
          "base_uri": "https://localhost:8080/"
        },
        "id": "BZcEmBGrLVA2",
        "outputId": "1771d1c9-d8c7-4678-bc4e-d9332983ceb4"
      },
      "outputs": [
        {
          "output_type": "execute_result",
          "data": {
            "text/plain": [
              "array([1, 2, 3, 4])"
            ]
          },
          "metadata": {},
          "execution_count": 3
        }
      ],
      "source": [
        "a = np.array([1,2,3,4])  # RIGHT\n",
        "a"
      ]
    },
    {
      "cell_type": "markdown",
      "metadata": {
        "id": "NBwl5-G7LVA3"
      },
      "source": [
        "Create a 2-dimensional Numpy array:\n",
        "\n",
        "\n"
      ]
    },
    {
      "cell_type": "code",
      "execution_count": 4,
      "metadata": {
        "colab": {
          "base_uri": "https://localhost:8080/"
        },
        "id": "0rtVhuudLVA3",
        "outputId": "9f5c8071-2edc-465f-b83c-0e267df6dc64"
      },
      "outputs": [
        {
          "output_type": "execute_result",
          "data": {
            "text/plain": [
              "array([[1.5, 2. , 3. ],\n",
              "       [4. , 5. , 6. ]])"
            ]
          },
          "metadata": {},
          "execution_count": 4
        }
      ],
      "source": [
        "b = np.array([(1.5,2,3), (4,5,6)])\n",
        "b"
      ]
    },
    {
      "cell_type": "markdown",
      "metadata": {
        "id": "wbz_yz3ZLVA4"
      },
      "source": [
        "When declaring an array, you can also specify the type of the elements (and thus the array):"
      ]
    },
    {
      "cell_type": "code",
      "execution_count": 5,
      "metadata": {
        "colab": {
          "base_uri": "https://localhost:8080/"
        },
        "id": "J3ltG2KpLVA4",
        "outputId": "81dc7451-a4f1-4e68-9cf3-8bc0e6c49ff7"
      },
      "outputs": [
        {
          "output_type": "execute_result",
          "data": {
            "text/plain": [
              "array([[1.2, 2.3],\n",
              "       [3.7, 4.5]])"
            ]
          },
          "metadata": {},
          "execution_count": 5
        }
      ],
      "source": [
        "c = np.array( [ [1.2,2.3], [3.7,4.5] ], dtype=float )\n",
        "c"
      ]
    },
    {
      "cell_type": "markdown",
      "metadata": {
        "id": "D_fQnpwvLVA5"
      },
      "source": [
        "Create a 3x4 array of all zeros, using the numpy.zeros() function (often used):"
      ]
    },
    {
      "cell_type": "code",
      "execution_count": 6,
      "metadata": {
        "colab": {
          "base_uri": "https://localhost:8080/"
        },
        "id": "uCmgclIWLVA5",
        "outputId": "e307824d-6e3f-41e6-df2d-d54a245e4844"
      },
      "outputs": [
        {
          "output_type": "execute_result",
          "data": {
            "text/plain": [
              "array([[0., 0., 0., 0.],\n",
              "       [0., 0., 0., 0.],\n",
              "       [0., 0., 0., 0.]])"
            ]
          },
          "metadata": {},
          "execution_count": 6
        }
      ],
      "source": [
        "d = np.zeros( (3,4) )\n",
        "d"
      ]
    },
    {
      "cell_type": "markdown",
      "metadata": {
        "id": "auw2Ab91LVA5"
      },
      "source": [
        "Create 2 arrays of size 3x4 (i.e. a 3D array) with numpy.ones() containing all ones (16-bit integers):"
      ]
    },
    {
      "cell_type": "code",
      "execution_count": 7,
      "metadata": {
        "colab": {
          "base_uri": "https://localhost:8080/"
        },
        "id": "n4RviaKqLVA6",
        "outputId": "fdca0013-8645-4e31-9f63-c61cd1b9d93c"
      },
      "outputs": [
        {
          "output_type": "execute_result",
          "data": {
            "text/plain": [
              "array([[[1, 1, 1, 1],\n",
              "        [1, 1, 1, 1],\n",
              "        [1, 1, 1, 1]],\n",
              "\n",
              "       [[1, 1, 1, 1],\n",
              "        [1, 1, 1, 1],\n",
              "        [1, 1, 1, 1]]], dtype=int16)"
            ]
          },
          "metadata": {},
          "execution_count": 7
        }
      ],
      "source": [
        "e = np.ones( (2,3,4), dtype=np.int16 )\n",
        "e"
      ]
    },
    {
      "cell_type": "markdown",
      "metadata": {
        "id": "NkIX5K_2LVA7"
      },
      "source": [
        "Create a 2x3 empty array using numpy.empty(). Numpy then assigns memory addresses to the elements of the array, which will be set to the values contained in the memory addresses."
      ]
    },
    {
      "cell_type": "code",
      "execution_count": 8,
      "metadata": {
        "colab": {
          "base_uri": "https://localhost:8080/"
        },
        "id": "CX_0p2BDLVA7",
        "outputId": "0a45aff4-6358-4806-c4cf-c3bd67b63f47"
      },
      "outputs": [
        {
          "output_type": "execute_result",
          "data": {
            "text/plain": [
              "array([[1.5, 2. , 3. ],\n",
              "       [4. , 5. , 6. ]])"
            ]
          },
          "metadata": {},
          "execution_count": 8
        }
      ],
      "source": [
        "f = np.empty( (2,3) )\n",
        "f"
      ]
    },
    {
      "cell_type": "markdown",
      "metadata": {
        "id": "tXjXX_LzLVA8"
      },
      "source": [
        "linspace: from the interval bounded by the first and second argument, the third argument places a number of elements equidistant from each other and writes them into a numpy array (often used)."
      ]
    },
    {
      "cell_type": "code",
      "execution_count": 9,
      "metadata": {
        "colab": {
          "base_uri": "https://localhost:8080/"
        },
        "id": "HgFfu0NYLVA8",
        "outputId": "313de515-8adb-4720-8256-e13c8fadbeda"
      },
      "outputs": [
        {
          "output_type": "execute_result",
          "data": {
            "text/plain": [
              "array([0.  , 0.25, 0.5 , 0.75, 1.  , 1.25, 1.5 , 1.75, 2.  ])"
            ]
          },
          "metadata": {},
          "execution_count": 9
        }
      ],
      "source": [
        "g = np.linspace( 0, 2, 9 )  # generates 9 numbers between 0 and 2\n",
        "g"
      ]
    },
    {
      "cell_type": "markdown",
      "metadata": {
        "id": "oq8WypxGLVA9"
      },
      "source": [
        "The same function from -2pi and 2pi with 15 elements:"
      ]
    },
    {
      "cell_type": "code",
      "execution_count": 10,
      "metadata": {
        "colab": {
          "base_uri": "https://localhost:8080/"
        },
        "id": "-I6N5PPjLVA9",
        "outputId": "da8e721e-d901-44f6-96a0-a4dd10afb5fd"
      },
      "outputs": [
        {
          "output_type": "execute_result",
          "data": {
            "text/plain": [
              "array([-6.28318531, -5.38558741, -4.48798951, -3.5903916 , -2.6927937 ,\n",
              "       -1.7951958 , -0.8975979 ,  0.        ,  0.8975979 ,  1.7951958 ,\n",
              "        2.6927937 ,  3.5903916 ,  4.48798951,  5.38558741,  6.28318531])"
            ]
          },
          "metadata": {},
          "execution_count": 10
        }
      ],
      "source": [
        "h = np.linspace( -2*np.pi, 2*np.pi , 15 )\n",
        "h"
      ]
    },
    {
      "cell_type": "markdown",
      "metadata": {
        "id": "O3ZOWUnOLVA-"
      },
      "source": [
        "Similar to linspace(), but it is best used when the scaling measure is an integer. If you do not specify a range boundary or scale as a parameter, you can simply create a new array which will be automatically populated."
      ]
    },
    {
      "cell_type": "code",
      "execution_count": 11,
      "metadata": {
        "colab": {
          "base_uri": "https://localhost:8080/"
        },
        "id": "ADp3MG0xLVA-",
        "outputId": "1307da27-e9c4-4002-9289-79195090137b"
      },
      "outputs": [
        {
          "output_type": "execute_result",
          "data": {
            "text/plain": [
              "array([ 0,  1,  2,  3,  4,  5,  6,  7,  8,  9, 10, 11, 12, 13, 14])"
            ]
          },
          "metadata": {},
          "execution_count": 11
        }
      ],
      "source": [
        "i = np.arange(15)\n",
        "i"
      ]
    },
    {
      "cell_type": "markdown",
      "metadata": {
        "id": "k7ibGh8lLVA_"
      },
      "source": [
        "If too many array elements should be displayed, only the last elements of the ranges are visualised."
      ]
    },
    {
      "cell_type": "code",
      "execution_count": 12,
      "metadata": {
        "colab": {
          "base_uri": "https://localhost:8080/"
        },
        "id": "EKbCHee7LVA_",
        "outputId": "efc94826-949b-42e4-935a-f15420d6905b"
      },
      "outputs": [
        {
          "output_type": "stream",
          "name": "stdout",
          "text": [
            "[[1. 0. 0. ... 0. 0. 0.]\n",
            " [0. 1. 0. ... 0. 0. 0.]\n",
            " [0. 0. 1. ... 0. 0. 0.]\n",
            " ...\n",
            " [0. 0. 0. ... 1. 0. 0.]\n",
            " [0. 0. 0. ... 0. 1. 0.]\n",
            " [0. 0. 0. ... 0. 0. 1.]]\n"
          ]
        }
      ],
      "source": [
        "print(np.eye(100))"
      ]
    },
    {
      "cell_type": "markdown",
      "metadata": {
        "id": "nbjNK3fbLVA_"
      },
      "source": [
        "# Basic operations"
      ]
    },
    {
      "cell_type": "markdown",
      "metadata": {
        "id": "Jnztfa-VLVBA"
      },
      "source": [
        "create an \"a\" array:"
      ]
    },
    {
      "cell_type": "code",
      "execution_count": 13,
      "metadata": {
        "colab": {
          "base_uri": "https://localhost:8080/"
        },
        "id": "sPoyeBIxLVBA",
        "outputId": "cd354c15-0cfc-4037-a02a-5a4b58933538"
      },
      "outputs": [
        {
          "output_type": "execute_result",
          "data": {
            "text/plain": [
              "array([20, 30, 40, 50])"
            ]
          },
          "metadata": {},
          "execution_count": 13
        }
      ],
      "source": [
        "a = np.array( [20,30,40,50] )\n",
        "a"
      ]
    },
    {
      "cell_type": "markdown",
      "metadata": {
        "id": "a0aszwauLVBB"
      },
      "source": [
        "creating a \"b\" array"
      ]
    },
    {
      "cell_type": "code",
      "execution_count": 14,
      "metadata": {
        "colab": {
          "base_uri": "https://localhost:8080/"
        },
        "id": "W1DSNPBOLVBB",
        "outputId": "83b00eaa-02ce-4685-cf45-a22e18e93fdb"
      },
      "outputs": [
        {
          "output_type": "execute_result",
          "data": {
            "text/plain": [
              "array([0, 1, 2, 3])"
            ]
          },
          "metadata": {},
          "execution_count": 14
        }
      ],
      "source": [
        "b = np.arange( 4 )\n",
        "b"
      ]
    },
    {
      "cell_type": "markdown",
      "metadata": {
        "id": "ponxneJJLVBB"
      },
      "source": [
        "Element-by-element subtraction:"
      ]
    },
    {
      "cell_type": "code",
      "execution_count": 15,
      "metadata": {
        "colab": {
          "base_uri": "https://localhost:8080/"
        },
        "id": "xPsaX6bILVBB",
        "outputId": "ed66476d-19e4-4a22-98dd-5fda958710e2"
      },
      "outputs": [
        {
          "output_type": "execute_result",
          "data": {
            "text/plain": [
              "array([20, 29, 38, 47])"
            ]
          },
          "metadata": {},
          "execution_count": 15
        }
      ],
      "source": [
        "c = a-b\n",
        "c"
      ]
    },
    {
      "cell_type": "markdown",
      "metadata": {
        "id": "fXIHVOtSLVBC"
      },
      "source": [
        "the square of the elements of array \"b\":"
      ]
    },
    {
      "cell_type": "code",
      "execution_count": 16,
      "metadata": {
        "colab": {
          "base_uri": "https://localhost:8080/"
        },
        "id": "S_DJr2AALVBZ",
        "outputId": "318396f0-65db-47d4-c25b-3696bc4c2ff2"
      },
      "outputs": [
        {
          "output_type": "execute_result",
          "data": {
            "text/plain": [
              "array([0, 1, 4, 9])"
            ]
          },
          "metadata": {},
          "execution_count": 16
        }
      ],
      "source": [
        "b**2"
      ]
    },
    {
      "cell_type": "markdown",
      "metadata": {
        "id": "ysfZF2j1LVBa"
      },
      "source": [
        "Calculate the 10*sine values of the elements of the array. In the case of Numpy functions, it is sufficient to pass only the array itself to the function. There is no need to iterate over all the elements."
      ]
    },
    {
      "cell_type": "code",
      "execution_count": 17,
      "metadata": {
        "colab": {
          "base_uri": "https://localhost:8080/"
        },
        "id": "Z2Y4WUo2LVBa",
        "outputId": "875429af-1959-48c8-dc6b-d867ea92277e"
      },
      "outputs": [
        {
          "output_type": "execute_result",
          "data": {
            "text/plain": [
              "array([ 9.12945251, -9.88031624,  7.4511316 , -2.62374854])"
            ]
          },
          "metadata": {},
          "execution_count": 17
        }
      ],
      "source": [
        "10*np.sin(a)"
      ]
    },
    {
      "cell_type": "markdown",
      "metadata": {
        "id": "jnhyPESfLVBb"
      },
      "source": [
        "Check the condition and create a \"boolean\" array from the original array:"
      ]
    },
    {
      "cell_type": "code",
      "execution_count": 18,
      "metadata": {
        "colab": {
          "base_uri": "https://localhost:8080/"
        },
        "id": "gfvryEEYLVBb",
        "outputId": "982814ba-8dde-4057-b8ee-b4ea254361d9"
      },
      "outputs": [
        {
          "output_type": "execute_result",
          "data": {
            "text/plain": [
              "array([ True,  True, False, False])"
            ]
          },
          "metadata": {},
          "execution_count": 18
        }
      ],
      "source": [
        "a<35"
      ]
    },
    {
      "cell_type": "markdown",
      "metadata": {
        "id": "5-4-h-DnLVBc"
      },
      "source": [
        "Create \"A\" 2x2 array with predefined value:"
      ]
    },
    {
      "cell_type": "code",
      "execution_count": 19,
      "metadata": {
        "id": "x9m3GeeoLVBc"
      },
      "outputs": [],
      "source": [
        "A = np.array( [[1,1],\n",
        "              [0,1]] )"
      ]
    },
    {
      "cell_type": "markdown",
      "metadata": {
        "id": "h-6Eo3tvLVBc"
      },
      "source": [
        "Create \"B\" 2x2 array:"
      ]
    },
    {
      "cell_type": "code",
      "execution_count": 20,
      "metadata": {
        "id": "nzdaLIYqLVBc"
      },
      "outputs": [],
      "source": [
        "B = np.array( [[2,0],\n",
        "              [3,4]] )"
      ]
    },
    {
      "cell_type": "markdown",
      "metadata": {
        "id": "oCFadSg2LVBd"
      },
      "source": [
        "Element-wise multiplication of A and B:\n"
      ]
    },
    {
      "cell_type": "code",
      "execution_count": 21,
      "metadata": {
        "colab": {
          "base_uri": "https://localhost:8080/"
        },
        "id": "SMxvzwhULVBd",
        "outputId": "446b8f76-1866-4e72-e416-6df2639ce887"
      },
      "outputs": [
        {
          "output_type": "execute_result",
          "data": {
            "text/plain": [
              "array([[2, 0],\n",
              "       [0, 4]])"
            ]
          },
          "metadata": {},
          "execution_count": 21
        }
      ],
      "source": [
        "A*B"
      ]
    },
    {
      "cell_type": "markdown",
      "metadata": {
        "id": "-Wmu0LsqLVBe"
      },
      "source": [
        "Matrix multiplication of A and B using numpy.dot(). (both lines do the same thing)\n",
        "."
      ]
    },
    {
      "cell_type": "code",
      "execution_count": 22,
      "metadata": {
        "colab": {
          "base_uri": "https://localhost:8080/"
        },
        "id": "F-QyFTxXLVBe",
        "outputId": "ae32b55f-ac6e-4db9-acf9-bcb8a19d3446"
      },
      "outputs": [
        {
          "output_type": "execute_result",
          "data": {
            "text/plain": [
              "array([[5, 4],\n",
              "       [3, 4]])"
            ]
          },
          "metadata": {},
          "execution_count": 22
        }
      ],
      "source": [
        "np.dot(A, B)\n",
        "A.dot(B)"
      ]
    },
    {
      "cell_type": "markdown",
      "metadata": {
        "id": "tyjtFon1LVBe"
      },
      "source": [
        "Create an array \"a\" of ones and multiply each element of \"a\" by 3:"
      ]
    },
    {
      "cell_type": "code",
      "execution_count": 23,
      "metadata": {
        "colab": {
          "base_uri": "https://localhost:8080/"
        },
        "id": "p-lB9TLkLVBf",
        "outputId": "abe03e4a-35c2-4448-9a12-b14c98d67fd1"
      },
      "outputs": [
        {
          "output_type": "execute_result",
          "data": {
            "text/plain": [
              "array([[3, 3, 3],\n",
              "       [3, 3, 3]])"
            ]
          },
          "metadata": {},
          "execution_count": 23
        }
      ],
      "source": [
        "a = np.ones((2,3), dtype=int)\n",
        "a\n",
        "a *= 3\n",
        "a"
      ]
    },
    {
      "cell_type": "markdown",
      "metadata": {
        "id": "Rw4hdnfvLVBf"
      },
      "source": [
        "Create and fill a 2x3 matrix from the range [0.0, 1.0) randomly. (The two approaches do the same thing.)"
      ]
    },
    {
      "cell_type": "code",
      "execution_count": 24,
      "metadata": {
        "colab": {
          "base_uri": "https://localhost:8080/"
        },
        "id": "8Nd7gJCzLVBf",
        "outputId": "8007c6e6-ec47-439d-9aad-c6d2e0ff7576"
      },
      "outputs": [
        {
          "output_type": "execute_result",
          "data": {
            "text/plain": [
              "array([[0.75724398, 0.89267841, 0.90291338],\n",
              "       [0.43382418, 0.57860502, 0.69513024]])"
            ]
          },
          "metadata": {},
          "execution_count": 24
        }
      ],
      "source": [
        "b = np.random.random((2,3))\n",
        "b"
      ]
    },
    {
      "cell_type": "code",
      "execution_count": 25,
      "metadata": {
        "colab": {
          "base_uri": "https://localhost:8080/"
        },
        "id": "5tdZK4dxLVBg",
        "outputId": "123f6cee-af11-4fe9-fc87-6a84e5f4cab3"
      },
      "outputs": [
        {
          "output_type": "execute_result",
          "data": {
            "text/plain": [
              "array([[0.98693963, 0.91862731, 0.82830372],\n",
              "       [0.63970856, 0.76930653, 0.34784581]])"
            ]
          },
          "metadata": {},
          "execution_count": 25
        }
      ],
      "source": [
        "b = np.random.rand(2,3)\n",
        "b"
      ]
    },
    {
      "cell_type": "markdown",
      "metadata": {
        "id": "5LGyMMeWLVBg"
      },
      "source": [
        "You can also add the elements of array a to the elements of array b:"
      ]
    },
    {
      "cell_type": "code",
      "execution_count": 26,
      "metadata": {
        "colab": {
          "base_uri": "https://localhost:8080/"
        },
        "id": "-dfp65owLVBh",
        "outputId": "65f7621f-65c4-4252-d556-1deeddc8a2a8"
      },
      "outputs": [
        {
          "output_type": "execute_result",
          "data": {
            "text/plain": [
              "array([[3.98693963, 3.91862731, 3.82830372],\n",
              "       [3.63970856, 3.76930653, 3.34784581]])"
            ]
          },
          "metadata": {},
          "execution_count": 26
        }
      ],
      "source": [
        "b += a\n",
        "b"
      ]
    },
    {
      "cell_type": "markdown",
      "metadata": {
        "id": "WwoHMr9nLVBh"
      },
      "source": [
        "# Random seed"
      ]
    },
    {
      "cell_type": "markdown",
      "metadata": {
        "id": "5YWXT5BfLVBh"
      },
      "source": [
        "If you specify a random seed, then every time you restart your script, it will generate the same random numbers one after the other. This helps us to work with the same random numbers every time we run it, so that different results are not generated from different random numbers."
      ]
    },
    {
      "cell_type": "code",
      "execution_count": 27,
      "metadata": {
        "colab": {
          "base_uri": "https://localhost:8080/"
        },
        "id": "4Ec2MYmBLVBi",
        "outputId": "c76df240-3c3b-40d4-dc0e-825a231031db"
      },
      "outputs": [
        {
          "output_type": "stream",
          "name": "stdout",
          "text": [
            "[[0.37454012 0.95071431 0.73199394]\n",
            " [0.59865848 0.15601864 0.15599452]]\n",
            "[[0.05808361 0.86617615 0.60111501]\n",
            " [0.70807258 0.02058449 0.96990985]]\n",
            "[[0.83244264 0.21233911 0.18182497]\n",
            " [0.18340451 0.30424224 0.52475643]]\n",
            "[[0.43194502 0.29122914 0.61185289]\n",
            " [0.13949386 0.29214465 0.36636184]]\n"
          ]
        }
      ],
      "source": [
        "np.random.seed(42)\n",
        "print(np.random.rand(2,3))\n",
        "print(np.random.rand(2,3))\n",
        "print(np.random.rand(2,3))\n",
        "print(np.random.rand(2,3))"
      ]
    },
    {
      "cell_type": "code",
      "execution_count": 28,
      "metadata": {
        "colab": {
          "base_uri": "https://localhost:8080/"
        },
        "id": "YoF3aohvLVBi",
        "outputId": "ff31628a-0fd6-4530-aa4f-e48a244ff684"
      },
      "outputs": [
        {
          "output_type": "stream",
          "name": "stdout",
          "text": [
            "[[0.37454012 0.95071431 0.73199394]\n",
            " [0.59865848 0.15601864 0.15599452]]\n",
            "[[0.05808361 0.86617615 0.60111501]\n",
            " [0.70807258 0.02058449 0.96990985]]\n",
            "[[0.83244264 0.21233911 0.18182497]\n",
            " [0.18340451 0.30424224 0.52475643]]\n",
            "[[0.43194502 0.29122914 0.61185289]\n",
            " [0.13949386 0.29214465 0.36636184]]\n"
          ]
        }
      ],
      "source": [
        "np.random.seed(42)\n",
        "print(np.random.rand(2,3))\n",
        "print(np.random.rand(2,3))\n",
        "print(np.random.rand(2,3))\n",
        "print(np.random.rand(2,3))"
      ]
    },
    {
      "cell_type": "markdown",
      "metadata": {
        "id": "KG6-QqcVLVBj"
      },
      "source": [
        "# Unary operators"
      ]
    },
    {
      "cell_type": "markdown",
      "metadata": {
        "id": "KQDThEXgLVBj"
      },
      "source": [
        "Create and fill a 3x4 array with numpy.arange():"
      ]
    },
    {
      "cell_type": "code",
      "execution_count": 29,
      "metadata": {
        "colab": {
          "base_uri": "https://localhost:8080/"
        },
        "id": "z-4ItZ9wLVBj",
        "outputId": "191803e1-1029-40b6-dd61-2ca23d849d0a"
      },
      "outputs": [
        {
          "output_type": "execute_result",
          "data": {
            "text/plain": [
              "array([[ 0,  1,  2,  3],\n",
              "       [ 4,  5,  6,  7],\n",
              "       [ 8,  9, 10, 11]])"
            ]
          },
          "metadata": {},
          "execution_count": 29
        }
      ],
      "source": [
        "b = np.arange(12).reshape(3,4)\n",
        "b"
      ]
    },
    {
      "cell_type": "markdown",
      "metadata": {
        "id": "oPMoHmYSLVBk"
      },
      "source": [
        "Calculation of column and row sums:"
      ]
    },
    {
      "cell_type": "code",
      "execution_count": 30,
      "metadata": {
        "colab": {
          "base_uri": "https://localhost:8080/"
        },
        "id": "xEgGQTeyLVBk",
        "outputId": "90b674f7-4093-4ab4-fbbc-35589fa8b349"
      },
      "outputs": [
        {
          "output_type": "execute_result",
          "data": {
            "text/plain": [
              "array([12, 15, 18, 21])"
            ]
          },
          "metadata": {},
          "execution_count": 30
        }
      ],
      "source": [
        "b.sum(axis=0)"
      ]
    },
    {
      "cell_type": "code",
      "execution_count": 31,
      "metadata": {
        "colab": {
          "base_uri": "https://localhost:8080/"
        },
        "id": "-2j5309ZLVBl",
        "outputId": "dc1166c6-43d4-4bb5-c1a0-fd2c98299970"
      },
      "outputs": [
        {
          "output_type": "execute_result",
          "data": {
            "text/plain": [
              "array([ 6, 22, 38])"
            ]
          },
          "metadata": {},
          "execution_count": 31
        }
      ],
      "source": [
        "b.sum(axis=1)"
      ]
    },
    {
      "cell_type": "markdown",
      "metadata": {
        "id": "drroCaVnLVBl"
      },
      "source": [
        "The smallest elements per column and per row within the array:"
      ]
    },
    {
      "cell_type": "code",
      "execution_count": 32,
      "metadata": {
        "colab": {
          "base_uri": "https://localhost:8080/"
        },
        "id": "kesLKPk-LVBl",
        "outputId": "f7faa1c8-a193-4d2a-93e9-136625af14c9"
      },
      "outputs": [
        {
          "output_type": "execute_result",
          "data": {
            "text/plain": [
              "array([0, 1, 2, 3])"
            ]
          },
          "metadata": {},
          "execution_count": 32
        }
      ],
      "source": [
        "b.min(axis=0)"
      ]
    },
    {
      "cell_type": "code",
      "execution_count": 33,
      "metadata": {
        "colab": {
          "base_uri": "https://localhost:8080/"
        },
        "id": "k_PDucGALVBm",
        "outputId": "a8466ab7-e1a4-431f-e53f-7a54b6e69937"
      },
      "outputs": [
        {
          "output_type": "execute_result",
          "data": {
            "text/plain": [
              "array([0, 4, 8])"
            ]
          },
          "metadata": {},
          "execution_count": 33
        }
      ],
      "source": [
        "b.min(axis=1)"
      ]
    },
    {
      "cell_type": "markdown",
      "metadata": {
        "id": "9t6mHdBTLVBm"
      },
      "source": [
        "Cumulative sums per column and per row:"
      ]
    },
    {
      "cell_type": "code",
      "execution_count": 34,
      "metadata": {
        "colab": {
          "base_uri": "https://localhost:8080/"
        },
        "id": "Y80HJ68ILVBm",
        "outputId": "aa6f76b7-e770-4f4f-a4fd-ab01aae1371f"
      },
      "outputs": [
        {
          "output_type": "execute_result",
          "data": {
            "text/plain": [
              "array([[ 0,  1,  2,  3],\n",
              "       [ 4,  6,  8, 10],\n",
              "       [12, 15, 18, 21]])"
            ]
          },
          "metadata": {},
          "execution_count": 34
        }
      ],
      "source": [
        "b.cumsum(axis=0)"
      ]
    },
    {
      "cell_type": "code",
      "execution_count": 35,
      "metadata": {
        "colab": {
          "base_uri": "https://localhost:8080/"
        },
        "id": "UWZ_AoZyLVBn",
        "outputId": "5e2234ce-b670-49d8-f14c-f9a547461e8e"
      },
      "outputs": [
        {
          "output_type": "execute_result",
          "data": {
            "text/plain": [
              "array([[ 0,  1,  3,  6],\n",
              "       [ 4,  9, 15, 22],\n",
              "       [ 8, 17, 27, 38]])"
            ]
          },
          "metadata": {},
          "execution_count": 35
        }
      ],
      "source": [
        "b.cumsum(axis=1)"
      ]
    },
    {
      "cell_type": "markdown",
      "metadata": {
        "id": "allsiC99LVBn"
      },
      "source": [
        "If no *axis* parameter is specified, it performs the operation on the whole array:"
      ]
    },
    {
      "cell_type": "code",
      "execution_count": 36,
      "metadata": {
        "colab": {
          "base_uri": "https://localhost:8080/"
        },
        "id": "IDtvkPmrLVBo",
        "outputId": "5b0c3127-43a9-4a45-a15a-c56e0f124018"
      },
      "outputs": [
        {
          "output_type": "execute_result",
          "data": {
            "text/plain": [
              "66"
            ]
          },
          "metadata": {},
          "execution_count": 36
        }
      ],
      "source": [
        "b.sum()"
      ]
    },
    {
      "cell_type": "code",
      "execution_count": 37,
      "metadata": {
        "colab": {
          "base_uri": "https://localhost:8080/"
        },
        "id": "vnEyqHXsLVBo",
        "outputId": "4477b228-7a17-44a8-9504-8e4e179d3f9e"
      },
      "outputs": [
        {
          "output_type": "execute_result",
          "data": {
            "text/plain": [
              "0"
            ]
          },
          "metadata": {},
          "execution_count": 37
        }
      ],
      "source": [
        "b.min()"
      ]
    },
    {
      "cell_type": "code",
      "execution_count": 38,
      "metadata": {
        "colab": {
          "base_uri": "https://localhost:8080/"
        },
        "id": "Pq7AxkiILVBp",
        "outputId": "124676ef-162c-43a3-9839-acd3e6f2d792"
      },
      "outputs": [
        {
          "output_type": "execute_result",
          "data": {
            "text/plain": [
              "array([ 0,  1,  3,  6, 10, 15, 21, 28, 36, 45, 55, 66])"
            ]
          },
          "metadata": {},
          "execution_count": 38
        }
      ],
      "source": [
        "b.cumsum()"
      ]
    },
    {
      "cell_type": "markdown",
      "metadata": {
        "id": "irPqETsBLVBp"
      },
      "source": [
        "# Indexing\n"
      ]
    },
    {
      "cell_type": "markdown",
      "metadata": {
        "id": "ANHKcSuzLVBq"
      },
      "source": [
        "Cube of first 10 non-negative integers:"
      ]
    },
    {
      "cell_type": "code",
      "execution_count": 39,
      "metadata": {
        "colab": {
          "base_uri": "https://localhost:8080/"
        },
        "id": "Q0qmiNE2LVBq",
        "outputId": "b719c30e-7bbc-4c3f-b48a-65d1edca9dff"
      },
      "outputs": [
        {
          "output_type": "execute_result",
          "data": {
            "text/plain": [
              "array([  0,   1,   8,  27,  64, 125, 216, 343, 512, 729])"
            ]
          },
          "metadata": {},
          "execution_count": 39
        }
      ],
      "source": [
        "a = np.arange(10)**3\n",
        "a"
      ]
    },
    {
      "cell_type": "markdown",
      "metadata": {
        "id": "Wq9LNYENLVBw"
      },
      "source": [
        "The numbering of the arrays starts from 0."
      ]
    },
    {
      "cell_type": "code",
      "execution_count": 40,
      "metadata": {
        "colab": {
          "base_uri": "https://localhost:8080/"
        },
        "id": "wNdj6u8KLVBx",
        "outputId": "5595ccc0-cd18-4903-cf6f-6155ee104a47"
      },
      "outputs": [
        {
          "output_type": "execute_result",
          "data": {
            "text/plain": [
              "8"
            ]
          },
          "metadata": {},
          "execution_count": 40
        }
      ],
      "source": [
        "a[2]"
      ]
    },
    {
      "cell_type": "markdown",
      "metadata": {
        "id": "C1R8JU4wLVBy"
      },
      "source": [
        "Select an interval within an array. The upper limit of the interval is not included in the selection."
      ]
    },
    {
      "cell_type": "code",
      "execution_count": 41,
      "metadata": {
        "colab": {
          "base_uri": "https://localhost:8080/"
        },
        "id": "unXNkOhZLVBy",
        "outputId": "d24e8f3d-2ff4-4db2-bc97-d1efa48c5f81"
      },
      "outputs": [
        {
          "output_type": "execute_result",
          "data": {
            "text/plain": [
              "array([ 8, 27, 64])"
            ]
          },
          "metadata": {},
          "execution_count": 41
        }
      ],
      "source": [
        "a[2:5]"
      ]
    },
    {
      "cell_type": "markdown",
      "metadata": {
        "id": "7nGCBOcnLVBy"
      },
      "source": [
        "From the first element to the sixth, we give every second element a value of 1000:"
      ]
    },
    {
      "cell_type": "code",
      "execution_count": 42,
      "metadata": {
        "colab": {
          "base_uri": "https://localhost:8080/"
        },
        "id": "9baSg59ILVBz",
        "outputId": "ca7ab64b-3eca-4249-9f2f-d96b1d04a86c"
      },
      "outputs": [
        {
          "output_type": "execute_result",
          "data": {
            "text/plain": [
              "array([1000,    1, 1000,   27, 1000,  125,  216,  343,  512,  729])"
            ]
          },
          "metadata": {},
          "execution_count": 42
        }
      ],
      "source": [
        "a[:6:2] = 1000\n",
        "a"
      ]
    },
    {
      "cell_type": "markdown",
      "metadata": {
        "id": "3WB-ex3VLVBz"
      },
      "source": [
        "Invert row vector:"
      ]
    },
    {
      "cell_type": "code",
      "execution_count": 43,
      "metadata": {
        "colab": {
          "base_uri": "https://localhost:8080/"
        },
        "id": "hPQakwxvLVB0",
        "outputId": "b626032c-28a2-4eca-cbe6-f4d9fdd0c9bc"
      },
      "outputs": [
        {
          "output_type": "execute_result",
          "data": {
            "text/plain": [
              "array([ 729,  512,  343,  216,  125, 1000,   27, 1000,    1, 1000])"
            ]
          },
          "metadata": {},
          "execution_count": 43
        }
      ],
      "source": [
        "a[ : :-1]"
      ]
    },
    {
      "cell_type": "markdown",
      "metadata": {
        "id": "j2ykP1T8LVB1"
      },
      "source": [
        "5x4-es matrix:"
      ]
    },
    {
      "cell_type": "code",
      "execution_count": 44,
      "metadata": {
        "colab": {
          "base_uri": "https://localhost:8080/"
        },
        "id": "as03vFGHLVB1",
        "outputId": "a719b5d3-d8e2-43b9-b3b1-4efc15040c92"
      },
      "outputs": [
        {
          "output_type": "execute_result",
          "data": {
            "text/plain": [
              "array([[ 0,  1,  2,  3],\n",
              "       [ 4,  5,  6,  7],\n",
              "       [ 8,  9, 10, 11],\n",
              "       [12, 13, 14, 15],\n",
              "       [16, 17, 18, 19]])"
            ]
          },
          "metadata": {},
          "execution_count": 44
        }
      ],
      "source": [
        "b = np.arange(20).reshape(5,4)\n",
        "b"
      ]
    },
    {
      "cell_type": "markdown",
      "metadata": {
        "id": "JH7OWzCZLVB2"
      },
      "source": [
        "Both column and row indexes start from 0:"
      ]
    },
    {
      "cell_type": "code",
      "execution_count": 45,
      "metadata": {
        "colab": {
          "base_uri": "https://localhost:8080/"
        },
        "id": "YuTPtarFLVB2",
        "outputId": "58716e27-bb50-4c23-fdfa-3c70d2c00c24"
      },
      "outputs": [
        {
          "output_type": "execute_result",
          "data": {
            "text/plain": [
              "11"
            ]
          },
          "metadata": {},
          "execution_count": 45
        }
      ],
      "source": [
        "b[2,3]"
      ]
    },
    {
      "cell_type": "markdown",
      "metadata": {
        "id": "D_mPAFCfLVB2"
      },
      "source": [
        "The first five elements of the second column:\n",
        "\n"
      ]
    },
    {
      "cell_type": "code",
      "execution_count": 46,
      "metadata": {
        "id": "jzleN71gLVB2",
        "outputId": "fd9cb662-fc9e-4981-da64-14bdbb110b5e",
        "colab": {
          "base_uri": "https://localhost:8080/"
        }
      },
      "outputs": [
        {
          "output_type": "execute_result",
          "data": {
            "text/plain": [
              "array([ 1,  5,  9, 13, 17])"
            ]
          },
          "metadata": {},
          "execution_count": 46
        }
      ],
      "source": [
        "b[0:5, 1]"
      ]
    },
    {
      "cell_type": "markdown",
      "metadata": {
        "id": "ugl7gLmPLVB3"
      },
      "source": [
        "last row of array \"b\":"
      ]
    },
    {
      "cell_type": "code",
      "execution_count": 47,
      "metadata": {
        "colab": {
          "base_uri": "https://localhost:8080/"
        },
        "id": "IeVupuWKLVB3",
        "outputId": "9c84b7a7-b653-4081-f514-d6f860c3f099"
      },
      "outputs": [
        {
          "output_type": "execute_result",
          "data": {
            "text/plain": [
              "array([16, 17, 18, 19])"
            ]
          },
          "metadata": {},
          "execution_count": 47
        }
      ],
      "source": [
        "b[-1]"
      ]
    },
    {
      "cell_type": "markdown",
      "metadata": {
        "id": "AfYUH48ULVB3"
      },
      "source": [
        "# Manipulating the shape of the Numpy array"
      ]
    },
    {
      "cell_type": "markdown",
      "metadata": {
        "id": "sHVDkAYfLVB4"
      },
      "source": [
        "3x4-es matrix with random numbers:"
      ]
    },
    {
      "cell_type": "code",
      "execution_count": 48,
      "metadata": {
        "colab": {
          "base_uri": "https://localhost:8080/"
        },
        "id": "TnpVQnRtLVB4",
        "outputId": "bf79738d-6482-480f-c2f0-14fd28f08a2d"
      },
      "outputs": [
        {
          "output_type": "execute_result",
          "data": {
            "text/plain": [
              "array([[4., 7., 1., 5.],\n",
              "       [5., 0., 6., 1.],\n",
              "       [0., 9., 9., 8.]])"
            ]
          },
          "metadata": {},
          "execution_count": 48
        }
      ],
      "source": [
        "a = np.floor(10*np.random.random((3,4)))\n",
        "a"
      ]
    },
    {
      "cell_type": "markdown",
      "metadata": {
        "id": "lG1o7OoQLVB4"
      },
      "source": [
        "Transform the original 3x4 matrix into a row vector with numpy.reshape():"
      ]
    },
    {
      "cell_type": "code",
      "execution_count": 49,
      "metadata": {
        "colab": {
          "base_uri": "https://localhost:8080/"
        },
        "id": "F8YCsIwtLVB5",
        "outputId": "c75117cb-0da2-4244-8a6a-57b1f72e96cc"
      },
      "outputs": [
        {
          "output_type": "execute_result",
          "data": {
            "text/plain": [
              "array([[4., 7., 1., 5., 5., 0., 6., 1., 0., 9., 9., 8.]])"
            ]
          },
          "metadata": {},
          "execution_count": 49
        }
      ],
      "source": [
        "a.reshape(1,12)"
      ]
    },
    {
      "cell_type": "markdown",
      "metadata": {
        "id": "GkKmDU2ALVB5"
      },
      "source": [
        "You can also use numpy.shape() if the number of elements is not changed by the transformation:"
      ]
    },
    {
      "cell_type": "code",
      "execution_count": 50,
      "metadata": {
        "colab": {
          "base_uri": "https://localhost:8080/"
        },
        "id": "srbJ70v1LVB5",
        "outputId": "375073c1-d824-4735-98e7-1a75f4dcb11a"
      },
      "outputs": [
        {
          "output_type": "execute_result",
          "data": {
            "text/plain": [
              "array([[4., 7.],\n",
              "       [1., 5.],\n",
              "       [5., 0.],\n",
              "       [6., 1.],\n",
              "       [0., 9.],\n",
              "       [9., 8.]])"
            ]
          },
          "metadata": {},
          "execution_count": 50
        }
      ],
      "source": [
        "a.shape = (6, 2)\n",
        "a"
      ]
    },
    {
      "cell_type": "markdown",
      "metadata": {
        "id": "4Yo1unF8LVB6"
      },
      "source": [
        "The transpose of the matrix. It can be used only in case of 1 and 2 dimensions:"
      ]
    },
    {
      "cell_type": "code",
      "execution_count": 51,
      "metadata": {
        "colab": {
          "base_uri": "https://localhost:8080/"
        },
        "id": "POsr0qVuLVB6",
        "outputId": "954f618b-8ee4-4787-c26c-9130870c57f5"
      },
      "outputs": [
        {
          "output_type": "execute_result",
          "data": {
            "text/plain": [
              "array([[4., 1., 5., 6., 0., 9.],\n",
              "       [7., 5., 0., 1., 9., 8.]])"
            ]
          },
          "metadata": {},
          "execution_count": 51
        }
      ],
      "source": [
        "a.T"
      ]
    },
    {
      "cell_type": "markdown",
      "metadata": {
        "id": "5Ft1G5kvLVB7"
      },
      "source": [
        "You can specify how many rows you want to see and the number of columns will be calculated automatically:"
      ]
    },
    {
      "cell_type": "code",
      "execution_count": 52,
      "metadata": {
        "colab": {
          "base_uri": "https://localhost:8080/"
        },
        "id": "So54abYwLVB7",
        "outputId": "4da8fe87-5d4b-447b-aff5-8b6800a4224f"
      },
      "outputs": [
        {
          "output_type": "execute_result",
          "data": {
            "text/plain": [
              "array([[4., 7., 1., 5.],\n",
              "       [5., 0., 6., 1.],\n",
              "       [0., 9., 9., 8.]])"
            ]
          },
          "metadata": {},
          "execution_count": 52
        }
      ],
      "source": [
        "a.reshape(3,-1)"
      ]
    },
    {
      "cell_type": "markdown",
      "metadata": {
        "id": "1HMUJXp7LVB7"
      },
      "source": [
        "# Concatenating matrices"
      ]
    },
    {
      "cell_type": "markdown",
      "metadata": {
        "id": "8Go0Hvj4LVB8"
      },
      "source": [
        "Create 2 arrays of 2x2 with random elements. Numpy.floor() converts to the lower integer:"
      ]
    },
    {
      "cell_type": "code",
      "execution_count": 53,
      "metadata": {
        "colab": {
          "base_uri": "https://localhost:8080/"
        },
        "id": "cuB0RL7zLVB8",
        "outputId": "db8c3eaf-2e60-46a2-c820-923c91def635"
      },
      "outputs": [
        {
          "output_type": "execute_result",
          "data": {
            "text/plain": [
              "array([[3., 0.],\n",
              "       [6., 4.]])"
            ]
          },
          "metadata": {},
          "execution_count": 53
        }
      ],
      "source": [
        "a = np.floor(10*np.random.random((2,2)))\n",
        "a"
      ]
    },
    {
      "cell_type": "code",
      "execution_count": 54,
      "metadata": {
        "colab": {
          "base_uri": "https://localhost:8080/"
        },
        "id": "Cf_TTFEVLVB8",
        "outputId": "8ffc4ab2-e5e0-49f1-e6b1-0c6f604d4cdf"
      },
      "outputs": [
        {
          "output_type": "execute_result",
          "data": {
            "text/plain": [
              "array([[1., 4.],\n",
              "       [0., 9.]])"
            ]
          },
          "metadata": {},
          "execution_count": 54
        }
      ],
      "source": [
        "b = np.floor(10*np.random.random((2,2)))\n",
        "b"
      ]
    },
    {
      "cell_type": "markdown",
      "metadata": {
        "id": "IFwLqphzLVB9"
      },
      "source": [
        "Concatenate the two arrays along dimension 1 (vertical) and dimension 2 (horizontal):"
      ]
    },
    {
      "cell_type": "code",
      "execution_count": 55,
      "metadata": {
        "colab": {
          "base_uri": "https://localhost:8080/"
        },
        "id": "rH1syZweLVB9",
        "outputId": "aa469d66-2ca1-4c24-f86e-b9d070972058"
      },
      "outputs": [
        {
          "output_type": "execute_result",
          "data": {
            "text/plain": [
              "array([[3., 0.],\n",
              "       [6., 4.],\n",
              "       [1., 4.],\n",
              "       [0., 9.]])"
            ]
          },
          "metadata": {},
          "execution_count": 55
        }
      ],
      "source": [
        "np.concatenate((a, b), axis=0 )"
      ]
    },
    {
      "cell_type": "code",
      "execution_count": 56,
      "metadata": {
        "colab": {
          "base_uri": "https://localhost:8080/"
        },
        "id": "Y5bLhPsiLVB9",
        "outputId": "4ed1c5c2-80a2-4f82-dc1c-20fbabed9fd8"
      },
      "outputs": [
        {
          "output_type": "execute_result",
          "data": {
            "text/plain": [
              "array([[3., 0., 1., 4.],\n",
              "       [6., 4., 0., 9.]])"
            ]
          },
          "metadata": {},
          "execution_count": 56
        }
      ],
      "source": [
        "np.concatenate((a, b), axis=1 )"
      ]
    },
    {
      "cell_type": "markdown",
      "metadata": {
        "id": "gjAQeW0uLVB-"
      },
      "source": [
        "# Copying matrices"
      ]
    },
    {
      "cell_type": "markdown",
      "metadata": {
        "id": "o0MTxcPZLVB-"
      },
      "source": [
        "Create a row vector of the first 12 non-negative numbers:"
      ]
    },
    {
      "cell_type": "code",
      "execution_count": 57,
      "metadata": {
        "colab": {
          "base_uri": "https://localhost:8080/"
        },
        "id": "tAPFaRB5LVB-",
        "outputId": "535acc6c-70e7-4fa5-c43e-0daebbb8302f"
      },
      "outputs": [
        {
          "output_type": "execute_result",
          "data": {
            "text/plain": [
              "array([ 0,  1,  2,  3,  4,  5,  6,  7,  8,  9, 10, 11])"
            ]
          },
          "metadata": {},
          "execution_count": 57
        }
      ],
      "source": [
        "a = np.arange(12)\n",
        "a"
      ]
    },
    {
      "cell_type": "markdown",
      "metadata": {
        "id": "TPjq8nNLLVB_"
      },
      "source": [
        "\"b\" array will be equal to \"a\":"
      ]
    },
    {
      "cell_type": "code",
      "execution_count": 58,
      "metadata": {
        "id": "0WgazWHyLVB_"
      },
      "outputs": [],
      "source": [
        "b = a"
      ]
    },
    {
      "cell_type": "markdown",
      "metadata": {
        "id": "5ZMqdxjjLVB_"
      },
      "source": [
        "Check whether they are equal:"
      ]
    },
    {
      "cell_type": "code",
      "execution_count": 59,
      "metadata": {
        "colab": {
          "base_uri": "https://localhost:8080/"
        },
        "id": "4ZozlLibLVCA",
        "outputId": "0fdeedb4-6058-42cc-d25c-b98d9254ef09"
      },
      "outputs": [
        {
          "output_type": "execute_result",
          "data": {
            "text/plain": [
              "True"
            ]
          },
          "metadata": {},
          "execution_count": 59
        }
      ],
      "source": [
        "b is a"
      ]
    },
    {
      "cell_type": "markdown",
      "metadata": {
        "id": "KmUb-WGlLVCA"
      },
      "source": [
        "If I change the shape of b, then the shape of a also changes:"
      ]
    },
    {
      "cell_type": "code",
      "execution_count": 60,
      "metadata": {
        "colab": {
          "base_uri": "https://localhost:8080/"
        },
        "id": "A_qx41j8LVCA",
        "outputId": "f5642945-4034-4f2e-acbf-fee2cbf7125e"
      },
      "outputs": [
        {
          "output_type": "execute_result",
          "data": {
            "text/plain": [
              "(3, 4)"
            ]
          },
          "metadata": {},
          "execution_count": 60
        }
      ],
      "source": [
        "b.shape = 3,4\n",
        "a.shape"
      ]
    },
    {
      "cell_type": "markdown",
      "metadata": {
        "id": "TZ9h-DHhLVCB"
      },
      "source": [
        "Let \"c\" be an array that looks the same as \"a\":"
      ]
    },
    {
      "cell_type": "code",
      "execution_count": 61,
      "metadata": {
        "colab": {
          "base_uri": "https://localhost:8080/"
        },
        "id": "v_1CYFUiLVCB",
        "outputId": "4ca043ac-f96c-4fc3-d49c-67288f6f6dbe"
      },
      "outputs": [
        {
          "output_type": "execute_result",
          "data": {
            "text/plain": [
              "False"
            ]
          },
          "metadata": {},
          "execution_count": 61
        }
      ],
      "source": [
        "c = a.view()\n",
        "c is a"
      ]
    },
    {
      "cell_type": "markdown",
      "metadata": {
        "id": "77CXWAALLVCB"
      },
      "source": [
        "Through array \"c\" we see the elements of array \"a\":"
      ]
    },
    {
      "cell_type": "code",
      "execution_count": 62,
      "metadata": {
        "colab": {
          "base_uri": "https://localhost:8080/"
        },
        "id": "A7Y1wfAGLVCC",
        "outputId": "0dc974c4-1e03-4ce8-c1ab-5815445aa6bf"
      },
      "outputs": [
        {
          "output_type": "execute_result",
          "data": {
            "text/plain": [
              "True"
            ]
          },
          "metadata": {},
          "execution_count": 62
        }
      ],
      "source": [
        "c.base is a"
      ]
    },
    {
      "cell_type": "markdown",
      "metadata": {
        "id": "2H98xc0jLVCC"
      },
      "source": [
        "If I change the shape of \"c\", then the shape of \"a\" does not change:"
      ]
    },
    {
      "cell_type": "code",
      "execution_count": 63,
      "metadata": {
        "colab": {
          "base_uri": "https://localhost:8080/"
        },
        "id": "Yg31lQUVLVCC",
        "outputId": "c9fdedb9-b999-44ad-c550-b58735620d31"
      },
      "outputs": [
        {
          "output_type": "execute_result",
          "data": {
            "text/plain": [
              "(3, 4)"
            ]
          },
          "metadata": {},
          "execution_count": 63
        }
      ],
      "source": [
        "c.shape = 2,6\n",
        "a.shape"
      ]
    },
    {
      "cell_type": "markdown",
      "metadata": {
        "id": "VPrdVRsGLVCD"
      },
      "source": [
        "If I change the fourth element of array \"c\":"
      ]
    },
    {
      "cell_type": "code",
      "execution_count": 64,
      "metadata": {
        "colab": {
          "base_uri": "https://localhost:8080/"
        },
        "id": "yYxnie32LVCD",
        "outputId": "7f019173-688c-4c47-af3d-d55514a469c6"
      },
      "outputs": [
        {
          "output_type": "execute_result",
          "data": {
            "text/plain": [
              "array([[   0,    1,    2,    3],\n",
              "       [1234,    5,    6,    7],\n",
              "       [   8,    9,   10,   11]])"
            ]
          },
          "metadata": {},
          "execution_count": 64
        }
      ],
      "source": [
        "c[0,4] = 1234\n",
        "a"
      ]
    },
    {
      "cell_type": "markdown",
      "metadata": {
        "id": "tTLg107GLVCD"
      },
      "source": [
        "Making a deep copy of the array. The \"d\" array does not refer to \"a\" but is independent of it:"
      ]
    },
    {
      "cell_type": "code",
      "execution_count": 65,
      "metadata": {
        "colab": {
          "base_uri": "https://localhost:8080/"
        },
        "id": "_ZXzDvHJLVCE",
        "outputId": "c106b67a-49bc-4418-819a-96bf8531f5e4"
      },
      "outputs": [
        {
          "output_type": "execute_result",
          "data": {
            "text/plain": [
              "False"
            ]
          },
          "metadata": {},
          "execution_count": 65
        }
      ],
      "source": [
        "d = a.copy()\n",
        "d is a"
      ]
    },
    {
      "cell_type": "code",
      "execution_count": 66,
      "metadata": {
        "colab": {
          "base_uri": "https://localhost:8080/"
        },
        "id": "1c66aTGLLVCE",
        "outputId": "195c3e44-cb09-4fcb-f42f-6e46c0ebcf02"
      },
      "outputs": [
        {
          "output_type": "execute_result",
          "data": {
            "text/plain": [
              "False"
            ]
          },
          "metadata": {},
          "execution_count": 66
        }
      ],
      "source": [
        "d.base is a"
      ]
    },
    {
      "cell_type": "markdown",
      "metadata": {
        "collapsed": true,
        "id": "3yWEnI-2LVCE"
      },
      "source": [
        "# Garbage collector"
      ]
    },
    {
      "cell_type": "markdown",
      "metadata": {
        "collapsed": true,
        "id": "u2ytKsxnLVCF"
      },
      "source": [
        "The Python programming language has garbage collection to avoid memory leaks. In deep neural networks, we work with large amounts of data, so in many cases it may be necessary to \"manually\" flush memory before scheduling Python. This can be done as follows:"
      ]
    },
    {
      "cell_type": "code",
      "execution_count": 67,
      "metadata": {
        "colab": {
          "base_uri": "https://localhost:8080/"
        },
        "id": "grrEba0yLVCF",
        "outputId": "a3558b45-6989-444f-8f2f-0c22f2caa567"
      },
      "outputs": [
        {
          "output_type": "execute_result",
          "data": {
            "text/plain": [
              "array([[2., 6., 3., 5.],\n",
              "       [5., 1., 9., 7.],\n",
              "       [9., 8., 5., 9.]])"
            ]
          },
          "metadata": {},
          "execution_count": 67
        }
      ],
      "source": [
        "a = np.floor(10*np.random.random((3,4)))\n",
        "a"
      ]
    },
    {
      "cell_type": "code",
      "execution_count": 68,
      "metadata": {
        "colab": {
          "base_uri": "https://localhost:8080/"
        },
        "id": "TMhW2bqPLVCF",
        "outputId": "12d1dea1-ed2f-4e6e-f6ff-11f5f2ab9d2f"
      },
      "outputs": [
        {
          "output_type": "execute_result",
          "data": {
            "text/plain": [
              "[]"
            ]
          },
          "metadata": {},
          "execution_count": 68
        }
      ],
      "source": [
        "a = []\n",
        "a"
      ]
    },
    {
      "cell_type": "markdown",
      "metadata": {
        "id": "47f6hxetLVCG"
      },
      "source": [
        "Import the Garbage Collector (GC) module and collect the entire memory garbage. The return value of gc.collect() is the number of items not reached."
      ]
    },
    {
      "cell_type": "code",
      "execution_count": 69,
      "metadata": {
        "colab": {
          "base_uri": "https://localhost:8080/"
        },
        "id": "9bcmQzX-LVCG",
        "outputId": "92969cc4-a244-41f3-f494-41627f24fef8"
      },
      "outputs": [
        {
          "output_type": "execute_result",
          "data": {
            "text/plain": [
              "23"
            ]
          },
          "metadata": {},
          "execution_count": 69
        }
      ],
      "source": [
        "import gc\n",
        "gc.collect()"
      ]
    },
    {
      "cell_type": "code",
      "source": [],
      "metadata": {
        "id": "v-I4EJ5CPBZz"
      },
      "execution_count": null,
      "outputs": []
    },
    {
      "cell_type": "markdown",
      "source": [
        "**Functions and Classes**"
      ],
      "metadata": {
        "id": "U3DK2NZnPRrX"
      }
    },
    {
      "cell_type": "markdown",
      "source": [
        "Functions and Classes are useful for organizing and structuring code. They are used to make go portable, reusable, and clean.\n",
        "\n",
        "In python we define function with the 'def' keyword\n"
      ],
      "metadata": {
        "id": "BlsMuK04PWPk"
      }
    },
    {
      "cell_type": "code",
      "source": [
        "def add_and_print(arg0, arg1):\n",
        "    print(arg0 + arg1)\n",
        "\n",
        "add_and_print(1,2)"
      ],
      "metadata": {
        "colab": {
          "base_uri": "https://localhost:8080/"
        },
        "id": "cHvYkPoGPZjR",
        "outputId": "5bb03f8f-c33f-45d9-ba0a-d926eb25ae4b"
      },
      "execution_count": 70,
      "outputs": [
        {
          "output_type": "stream",
          "name": "stdout",
          "text": [
            "3\n"
          ]
        }
      ]
    },
    {
      "cell_type": "code",
      "source": [
        "def add_and_print(arg0 = 0, arg1 = 10):\n",
        "    print(arg0 + arg1)\n",
        "\n",
        "add_and_print()"
      ],
      "metadata": {
        "colab": {
          "base_uri": "https://localhost:8080/"
        },
        "id": "h9xTLUHZPdHi",
        "outputId": "07e40e88-e256-4ef4-a599-b6f685686d59"
      },
      "execution_count": 71,
      "outputs": [
        {
          "output_type": "stream",
          "name": "stdout",
          "text": [
            "10\n"
          ]
        }
      ]
    },
    {
      "cell_type": "markdown",
      "source": [
        "\n",
        "\n",
        "Let's make a simple class to orgainize our computation code we need earlier\n"
      ],
      "metadata": {
        "id": "vp11mUo9PwWJ"
      }
    },
    {
      "cell_type": "code",
      "source": [
        "class Compute:\n",
        "    def __init__(self, N = 10):\n",
        "        self.N = N\n",
        "        self.n2, self.two_n = self.compute()\n",
        "        self._print()\n",
        "\n",
        "    def compute(self):\n",
        "        return self.N * self.N, 2 * self.N\n",
        "\n",
        "    def _print(self):\n",
        "        print(\"Test\", self.N, self.n2, self.two_n)"
      ],
      "metadata": {
        "id": "ZGGXNeCvPe-R"
      },
      "execution_count": 72,
      "outputs": []
    },
    {
      "cell_type": "code",
      "source": [
        "c = Compute(5)"
      ],
      "metadata": {
        "colab": {
          "base_uri": "https://localhost:8080/"
        },
        "id": "08NZ6L0DPuZa",
        "outputId": "2b09cff1-3bce-4c66-e1f3-73582e18d1c6"
      },
      "execution_count": 73,
      "outputs": [
        {
          "output_type": "stream",
          "name": "stdout",
          "text": [
            "Test 5 25 10\n"
          ]
        }
      ]
    },
    {
      "cell_type": "markdown",
      "source": [
        "\n",
        "**Importing Libraries**\n"
      ],
      "metadata": {
        "id": "eb3EEJcMP7PH"
      }
    },
    {
      "cell_type": "code",
      "source": [
        "# import the numpy library\n",
        "import numpy\n",
        "\n",
        "# import a single export of numpy\n",
        "from numpy import linspace\n",
        "\n",
        "# import all the exports of numpy\n",
        "from numpy import *\n",
        "\n",
        "\n",
        "# import numpy with the alias np\n",
        "import numpy as np"
      ],
      "metadata": {
        "id": "2ON0qHiAP0O6"
      },
      "execution_count": 74,
      "outputs": []
    },
    {
      "cell_type": "markdown",
      "source": [
        "**Numpy/Matplotlib**"
      ],
      "metadata": {
        "id": "tOSAbkjjQJGC"
      }
    },
    {
      "cell_type": "code",
      "source": [
        "import numpy as np\n",
        "import matplotlib.pyplot as plt\n",
        "\n",
        "x = np.linspace(0, 10, 100)\n",
        "y = np.sin(x)\n",
        "\n",
        "%matplotlib inline\n",
        "plt.plot(x,y)\n",
        "plt.show()"
      ],
      "metadata": {
        "colab": {
          "base_uri": "https://localhost:8080/",
          "height": 430
        },
        "id": "lhalyhWFQG6g",
        "outputId": "4ce34ab1-40d6-4e9c-b1d7-43ad67e8300c"
      },
      "execution_count": 75,
      "outputs": [
        {
          "output_type": "display_data",
          "data": {
            "text/plain": [
              "<Figure size 640x480 with 1 Axes>"
            ],
            "image/png": "[encoded data removed]"
          },
          "metadata": {}
        }
      ]
    },
    {
      "cell_type": "code",
      "source": [
        "M = 128; N = 128\n",
        "x = np.zeros((M, N))\n",
        "\n",
        "plt.imshow(x)\n",
        "plt.show()"
      ],
      "metadata": {
        "colab": {
          "base_uri": "https://localhost:8080/",
          "height": 434
        },
        "id": "WkMLSYT-QNfI",
        "outputId": "1370fd2f-7cbf-4154-cfd8-ef7dd249e941"
      },
      "execution_count": 76,
      "outputs": [
        {
          "output_type": "display_data",
          "data": {
            "text/plain": [
              "<Figure size 640x480 with 1 Axes>"
            ],
            "image/png": "[encoded data removed]"
          },
          "metadata": {}
        }
      ]
    },
    {
      "cell_type": "code",
      "source": [
        "_ = np.linspace(0, 10, N)\n",
        "x = np.reshape(_, (N, 1))\n",
        "x = x * x.T\n",
        "plt.imshow(x)\n",
        "plt.show()"
      ],
      "metadata": {
        "colab": {
          "base_uri": "https://localhost:8080/",
          "height": 434
        },
        "id": "5acfr0LpQPam",
        "outputId": "ad2a4fda-ba3f-4f41-cd26-650fda1ba75f"
      },
      "execution_count": 77,
      "outputs": [
        {
          "output_type": "display_data",
          "data": {
            "text/plain": [
              "<Figure size 640x480 with 1 Axes>"
            ],
            "image/png": "[encoded data removed]"
          },
          "metadata": {}
        }
      ]
    },
    {
      "cell_type": "code",
      "source": [
        "list = range(10)\n",
        "print(len(list))\n",
        "\n",
        "npList = np.array(list)\n",
        "print(npList)\n",
        "print(npList.shape)"
      ],
      "metadata": {
        "colab": {
          "base_uri": "https://localhost:8080/"
        },
        "id": "JArnuBn6QQzM",
        "outputId": "b91057ee-24c9-4baa-cfe7-bed3a1455976"
      },
      "execution_count": 78,
      "outputs": [
        {
          "output_type": "stream",
          "name": "stdout",
          "text": [
            "10\n",
            "[0 1 2 3 4 5 6 7 8 9]\n",
            "(10,)\n"
          ]
        }
      ]
    },
    {
      "cell_type": "code",
      "source": [],
      "metadata": {
        "id": "Gu737YAnQSop"
      },
      "execution_count": null,
      "outputs": []
    }
  ],
  "metadata": {
    "kernelspec": {
      "display_name": "Python 3 (ipykernel)",
      "language": "python",
      "name": "python3"
    },
    "language_info": {
      "codemirror_mode": {
        "name": "ipython",
        "version": 3
      },
      "file_extension": ".py",
      "mimetype": "text/x-python",
      "name": "python",
      "nbconvert_exporter": "python",
      "pygments_lexer": "ipython3",
      "version": "3.8.10"
    },
    "colab": {
      "provenance": []
    }
  },
  "nbformat": 4,
  "nbformat_minor": 0
}