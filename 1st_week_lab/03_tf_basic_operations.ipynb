{
  "nbformat": 4,
  "nbformat_minor": 0,
  "metadata": {
    "colab": {
      "provenance": []
    },
    "kernelspec": {
      "name": "python3",
      "display_name": "Python 3"
    },
    "language_info": {
      "name": "python"
    }
  },
  "cells": [
    {
      "cell_type": "markdown",
      "source": [
        "\n",
        "**Copyright**\n",
        "\n",
        "This notebook was created as part of the \"Deep learning / VITMMA19\" class at\n",
        "Budapest University of Technology and Economics, Hungary,\n",
        "https://portal.vik.bme.hu/kepzes/targyak/VITMMA19\n",
        "\n",
        "TensorBoard vs TensorBoardX: https://tensorboardx.readthedocs.io/en/latest/tutorial.html\n",
        "\n",
        "Any re-use or publication of any part of the notebook is only allowed with the\n",
        " written consent of the authors.\n",
        "\n",
        "2024 (c) Mohammed Salah Al-Radhi, Bálint Gyires-Tóth\n",
        "\n"
      ],
      "metadata": {
        "id": "7abxrxxRVIUG"
      }
    },
    {
      "cell_type": "markdown",
      "source": [
        "**Check TensorFlow Version**\n",
        "\n",
        "Ensure TensorFlow is installed and check its version with the following code:"
      ],
      "metadata": {
        "id": "9_OWxd3CS9ny"
      }
    },
    {
      "cell_type": "code",
      "source": [
        "import tensorflow as tf\n",
        "print(tf.__version__)\n"
      ],
      "metadata": {
        "colab": {
          "base_uri": "https://localhost:8080/"
        },
        "id": "ypFm84cETARu",
        "outputId": "20bfa8dc-27f2-4569-e058-3026d5e9d385"
      },
      "execution_count": 1,
      "outputs": [
        {
          "output_type": "stream",
          "name": "stdout",
          "text": [
            "2.17.0\n"
          ]
        }
      ]
    },
    {
      "cell_type": "markdown",
      "source": [
        "You should see the TensorFlow version printed. TensorFlow 2.x is what we will be using."
      ],
      "metadata": {
        "id": "OQO3XAGaTQYz"
      }
    },
    {
      "cell_type": "markdown",
      "source": [
        "**Understanding Tensors in TensorFlow**\n",
        "\n",
        "Tensors are the primary data structure in TensorFlow. They are essentially multi-dimensional arrays."
      ],
      "metadata": {
        "id": "h1QHelRSTTrp"
      }
    },
    {
      "cell_type": "markdown",
      "source": [
        "**1- Creating Tensors:**"
      ],
      "metadata": {
        "id": "R0UBh2w5TdEy"
      }
    },
    {
      "cell_type": "code",
      "source": [
        "# Scalar (rank-0 tensor)\n",
        "scalar = tf.constant(7)\n",
        "print(\"Scalar:\", scalar)\n",
        "\n",
        "# Vector (rank-1 tensor)\n",
        "vector = tf.constant([1.0, 2.0, 3.0])\n",
        "print(\"Vector:\", vector)\n",
        "\n",
        "# Matrix (rank-2 tensor)\n",
        "matrix = tf.constant([[1, 2], [3, 4]])\n",
        "print(\"Matrix:\", matrix)\n",
        "\n",
        "# 3D Tensor (rank-3 tensor)\n",
        "tensor_3d = tf.constant([[[1, 2], [3, 4]], [[5, 6], [7, 8]]])\n",
        "print(\"3D Tensor:\", tensor_3d)\n"
      ],
      "metadata": {
        "colab": {
          "base_uri": "https://localhost:8080/"
        },
        "id": "OhgGsCIATGQu",
        "outputId": "096bec42-9d38-4f9e-90a9-0d87dd9d74f3"
      },
      "execution_count": 2,
      "outputs": [
        {
          "output_type": "stream",
          "name": "stdout",
          "text": [
            "Scalar: tf.Tensor(7, shape=(), dtype=int32)\n",
            "Vector: tf.Tensor([1. 2. 3.], shape=(3,), dtype=float32)\n",
            "Matrix: tf.Tensor(\n",
            "[[1 2]\n",
            " [3 4]], shape=(2, 2), dtype=int32)\n",
            "3D Tensor: tf.Tensor(\n",
            "[[[1 2]\n",
            "  [3 4]]\n",
            "\n",
            " [[5 6]\n",
            "  [7 8]]], shape=(2, 2, 2), dtype=int32)\n"
          ]
        }
      ]
    },
    {
      "cell_type": "markdown",
      "source": [
        "**2- Tensor Properties:**"
      ],
      "metadata": {
        "id": "1q3SSXB9Tg1K"
      }
    },
    {
      "cell_type": "code",
      "source": [
        "print(\"Shape of matrix:\", matrix.shape)\n",
        "print(\"Data type of matrix:\", matrix.dtype)\n"
      ],
      "metadata": {
        "colab": {
          "base_uri": "https://localhost:8080/"
        },
        "id": "iuQoyPDKTX7n",
        "outputId": "50e3c156-509b-4bd4-a2ef-6fe2f3d1ca78"
      },
      "execution_count": 3,
      "outputs": [
        {
          "output_type": "stream",
          "name": "stdout",
          "text": [
            "Shape of matrix: (2, 2)\n",
            "Data type of matrix: <dtype: 'int32'>\n"
          ]
        }
      ]
    },
    {
      "cell_type": "markdown",
      "source": [
        "**3- Basic TensorFlow Operations**"
      ],
      "metadata": {
        "id": "4AxFlJuaTmd5"
      }
    },
    {
      "cell_type": "code",
      "source": [
        "# Element-wise addition\n",
        "a = tf.constant([1, 2, 3])\n",
        "b = tf.constant([4, 5, 6])\n",
        "c = tf.add(a, b)\n",
        "print(\"Element-wise addition:\", c)\n",
        "\n",
        "# Element-wise multiplication\n",
        "d = tf.multiply(a, b)\n",
        "print(\"Element-wise multiplication:\", d)\n"
      ],
      "metadata": {
        "colab": {
          "base_uri": "https://localhost:8080/"
        },
        "id": "2JasMuBXTit3",
        "outputId": "03cd190e-3ceb-4d1e-9922-3ab510afe73c"
      },
      "execution_count": 5,
      "outputs": [
        {
          "output_type": "stream",
          "name": "stdout",
          "text": [
            "Element-wise addition: tf.Tensor([5 7 9], shape=(3,), dtype=int32)\n",
            "Element-wise multiplication: tf.Tensor([ 4 10 18], shape=(3,), dtype=int32)\n"
          ]
        }
      ]
    },
    {
      "cell_type": "markdown",
      "source": [
        "**4- Matrix Operations:**"
      ],
      "metadata": {
        "id": "P7e9qw2HTwcl"
      }
    },
    {
      "cell_type": "code",
      "source": [
        "# Matrix multiplication\n",
        "matrix1 = tf.constant([[1, 2], [3, 4]])\n",
        "matrix2 = tf.constant([[5, 6], [7, 8]])\n",
        "product = tf.matmul(matrix1, matrix2)\n",
        "print(\"Matrix multiplication result:\\n\", product)\n"
      ],
      "metadata": {
        "colab": {
          "base_uri": "https://localhost:8080/"
        },
        "id": "81KYNthITkjW",
        "outputId": "b51c89a6-27f3-4740-febc-cb787e30e48e"
      },
      "execution_count": 6,
      "outputs": [
        {
          "output_type": "stream",
          "name": "stdout",
          "text": [
            "Matrix multiplication result:\n",
            " tf.Tensor(\n",
            "[[19 22]\n",
            " [43 50]], shape=(2, 2), dtype=int32)\n"
          ]
        }
      ]
    },
    {
      "cell_type": "markdown",
      "source": [
        "**5- Reshaping Tensors:**"
      ],
      "metadata": {
        "id": "g5d5RjTTT2Rd"
      }
    },
    {
      "cell_type": "code",
      "source": [
        "# Reshaping a tensor\n",
        "tensor = tf.constant([[1, 2, 3], [4, 5, 6]])\n",
        "reshaped_tensor = tf.reshape(tensor, [3, 2])\n",
        "print(\"Original Tensor:\\n\", tensor)\n",
        "print(\"Reshaped Tensor:\\n\", reshaped_tensor)\n"
      ],
      "metadata": {
        "colab": {
          "base_uri": "https://localhost:8080/"
        },
        "id": "RTlL88YETzb2",
        "outputId": "dfaee1b7-f930-4325-b478-74709b4c01fd"
      },
      "execution_count": 7,
      "outputs": [
        {
          "output_type": "stream",
          "name": "stdout",
          "text": [
            "Original Tensor:\n",
            " tf.Tensor(\n",
            "[[1 2 3]\n",
            " [4 5 6]], shape=(2, 3), dtype=int32)\n",
            "Reshaped Tensor:\n",
            " tf.Tensor(\n",
            "[[1 2]\n",
            " [3 4]\n",
            " [5 6]], shape=(3, 2), dtype=int32)\n"
          ]
        }
      ]
    },
    {
      "cell_type": "markdown",
      "source": [
        "**6- Slicing Tensors:**"
      ],
      "metadata": {
        "id": "4igU71mjT7An"
      }
    },
    {
      "cell_type": "code",
      "source": [
        "# Slicing a tensor\n",
        "tensor = tf.constant([[1, 2, 3], [4, 5, 6], [7, 8, 9]])\n",
        "sliced_tensor = tensor[:, 1:]\n",
        "print(\"Original Tensor:\\n\", tensor)\n",
        "print(\"Sliced Tensor:\\n\", sliced_tensor)\n"
      ],
      "metadata": {
        "colab": {
          "base_uri": "https://localhost:8080/"
        },
        "id": "qDfcYvdbT4vN",
        "outputId": "2de56d54-621e-4422-d0ef-9ce6eadffa84"
      },
      "execution_count": 8,
      "outputs": [
        {
          "output_type": "stream",
          "name": "stdout",
          "text": [
            "Original Tensor:\n",
            " tf.Tensor(\n",
            "[[1 2 3]\n",
            " [4 5 6]\n",
            " [7 8 9]], shape=(3, 3), dtype=int32)\n",
            "Sliced Tensor:\n",
            " tf.Tensor(\n",
            "[[2 3]\n",
            " [5 6]\n",
            " [8 9]], shape=(3, 2), dtype=int32)\n"
          ]
        }
      ]
    },
    {
      "cell_type": "markdown",
      "source": [
        "**Working with Variables**\n",
        "\n",
        "Variables in TensorFlow are used to store mutable data."
      ],
      "metadata": {
        "id": "siihRCr8UA5D"
      }
    },
    {
      "cell_type": "markdown",
      "source": [
        "**1- Creating and Using Variables:**"
      ],
      "metadata": {
        "id": "DHigOr0JUGvi"
      }
    },
    {
      "cell_type": "code",
      "source": [
        "# Create a variable\n",
        "var = tf.Variable([1.0, 2.0, 3.0])\n",
        "print(\"Initial value of variable:\", var.numpy())\n",
        "\n",
        "# Assign a new value to the variable\n",
        "var.assign([4.0, 5.0, 6.0])\n",
        "print(\"New value of variable:\", var.numpy())\n",
        "\n",
        "# Perform in-place operations\n",
        "var.assign_add([1.0, 1.0, 1.0])\n",
        "print(\"After addition:\", var.numpy())\n"
      ],
      "metadata": {
        "colab": {
          "base_uri": "https://localhost:8080/"
        },
        "id": "9MnYDXmIT9IH",
        "outputId": "fb3ce2e1-2da6-403e-828c-60a0025355ad"
      },
      "execution_count": 9,
      "outputs": [
        {
          "output_type": "stream",
          "name": "stdout",
          "text": [
            "Initial value of variable: [1. 2. 3.]\n",
            "New value of variable: [4. 5. 6.]\n",
            "After addition: [5. 6. 7.]\n"
          ]
        }
      ]
    },
    {
      "cell_type": "markdown",
      "source": [
        "**Automatic Differentiation with TensorFlow**"
      ],
      "metadata": {
        "id": "CsEQXu8qUhTV"
      }
    },
    {
      "cell_type": "markdown",
      "source": [
        "TensorFlow’s `tf.GradientTape` allows for automatic differentiation, which is essential for optimization tasks."
      ],
      "metadata": {
        "id": "jcawL3MIUmYc"
      }
    },
    {
      "cell_type": "markdown",
      "source": [
        "**Calculating Gradients:**"
      ],
      "metadata": {
        "id": "zHadpcqHUvmi"
      }
    },
    {
      "cell_type": "code",
      "source": [
        "# Define a simple function: y = x^2\n",
        "x = tf.Variable(3.0)\n",
        "\n",
        "with tf.GradientTape() as tape:\n",
        "    y = x**2\n",
        "\n",
        "# Compute the gradient of y with respect to x\n",
        "grad = tape.gradient(y, x)\n",
        "print(\"Gradient of y = x^2 with respect to x:\", grad.numpy())\n"
      ],
      "metadata": {
        "colab": {
          "base_uri": "https://localhost:8080/"
        },
        "id": "BbaV_xEbUc8p",
        "outputId": "58c4daef-c6ff-41c9-bb29-c820df6a1320"
      },
      "execution_count": 10,
      "outputs": [
        {
          "output_type": "stream",
          "name": "stdout",
          "text": [
            "Gradient of y = x^2 with respect to x: 6.0\n"
          ]
        }
      ]
    },
    {
      "cell_type": "code",
      "source": [],
      "metadata": {
        "id": "XiBqWHqhUyHO"
      },
      "execution_count": null,
      "outputs": []
    }
  ]
}