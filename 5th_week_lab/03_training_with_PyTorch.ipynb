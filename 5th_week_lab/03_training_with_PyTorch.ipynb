{
  "nbformat": 4,
  "nbformat_minor": 0,
  "metadata": {
    "colab": {
      "provenance": []
    },
    "kernelspec": {
      "name": "python3",
      "display_name": "Python 3"
    },
    "language_info": {
      "name": "python"
    }
  },
  "cells": [
    {
      "cell_type": "markdown",
      "source": [
        "# Copyright\n",
        "\n",
        "<PRE>\n",
        "This notebook was created as part of the \"Deep learning / VITMMA19\" class at\n",
        "Budapest University of Technology and Economics, Hungary,\n",
        "https://portal.vik.bme.hu/kepzes/targyak/VITMMA19\n",
        "\n",
        "Any re-use or publication of any part of the notebook is only allowed with the\n",
        " written consent of the authors.\n",
        "\n",
        "2024 (c) Mohammed Salah Al-Radhi (malradhi@tmit.bme.hu)\n",
        "</PRE>"
      ],
      "metadata": {
        "id": "4Pe1b7tsjTq6"
      }
    },
    {
      "cell_type": "code",
      "execution_count": 1,
      "metadata": {
        "id": "ElLSxc7AiMXG"
      },
      "outputs": [],
      "source": [
        "# This tutorial provides an in-depth exploration of PyTorch, focusing on building, training, and evaluating neural networks.\n",
        "# We'll also cover advanced topics like saving/loading models and leveraging GPU acceleration.\n"
      ]
    },
    {
      "cell_type": "code",
      "source": [
        "# To install PyTorch, run the following command:\n",
        "!pip install torch torchvision torchaudio\n"
      ],
      "metadata": {
        "colab": {
          "base_uri": "https://localhost:8080/"
        },
        "id": "G_GEhVezj7MA",
        "outputId": "6f546380-eeac-46d9-ed17-c443ae0c4636"
      },
      "execution_count": 2,
      "outputs": [
        {
          "output_type": "stream",
          "name": "stdout",
          "text": [
            "Requirement already satisfied: torch in /usr/local/lib/python3.10/dist-packages (2.4.1+cu121)\n",
            "Requirement already satisfied: torchvision in /usr/local/lib/python3.10/dist-packages (0.19.1+cu121)\n",
            "Requirement already satisfied: torchaudio in /usr/local/lib/python3.10/dist-packages (2.4.1+cu121)\n",
            "Requirement already satisfied: filelock in /usr/local/lib/python3.10/dist-packages (from torch) (3.16.1)\n",
            "Requirement already satisfied: typing-extensions>=4.8.0 in /usr/local/lib/python3.10/dist-packages (from torch) (4.12.2)\n",
            "Requirement already satisfied: sympy in /usr/local/lib/python3.10/dist-packages (from torch) (1.13.3)\n",
            "Requirement already satisfied: networkx in /usr/local/lib/python3.10/dist-packages (from torch) (3.3)\n",
            "Requirement already satisfied: jinja2 in /usr/local/lib/python3.10/dist-packages (from torch) (3.1.4)\n",
            "Requirement already satisfied: fsspec in /usr/local/lib/python3.10/dist-packages (from torch) (2024.6.1)\n",
            "Requirement already satisfied: numpy in /usr/local/lib/python3.10/dist-packages (from torchvision) (1.26.4)\n",
            "Requirement already satisfied: pillow!=8.3.*,>=5.3.0 in /usr/local/lib/python3.10/dist-packages (from torchvision) (10.4.0)\n",
            "Requirement already satisfied: MarkupSafe>=2.0 in /usr/local/lib/python3.10/dist-packages (from jinja2->torch) (2.1.5)\n",
            "Requirement already satisfied: mpmath<1.4,>=1.1.0 in /usr/local/lib/python3.10/dist-packages (from sympy->torch) (1.3.0)\n"
          ]
        }
      ]
    },
    {
      "cell_type": "code",
      "source": [
        "# Check if PyTorch is installed\n",
        "import torch\n",
        "print(\"PyTorch version:\", torch.__version__)"
      ],
      "metadata": {
        "colab": {
          "base_uri": "https://localhost:8080/"
        },
        "id": "4_feZuM7kW_D",
        "outputId": "39fee15b-f982-450a-93bb-3d8e3480e065"
      },
      "execution_count": 3,
      "outputs": [
        {
          "output_type": "stream",
          "name": "stdout",
          "text": [
            "PyTorch version: 2.4.1+cu121\n"
          ]
        }
      ]
    },
    {
      "cell_type": "code",
      "source": [
        "## Creating Tensors with Different Data Types\n",
        "\n",
        "# Float tensor\n",
        "float_tensor = torch.tensor([[1.0, 2.0], [3.0, 4.0]], dtype=torch.float32)\n",
        "print(\"Float Tensor:\\n\", float_tensor)\n",
        "\n",
        "# Integer tensor\n",
        "int_tensor = torch.tensor([[1, 2], [3, 4]], dtype=torch.int32)\n",
        "print(\"Integer Tensor:\\n\", int_tensor)\n",
        "\n",
        "# Random tensor\n",
        "random_tensor = torch.rand((2, 3), dtype=torch.float32)\n",
        "print(\"Random Tensor:\\n\", random_tensor)"
      ],
      "metadata": {
        "colab": {
          "base_uri": "https://localhost:8080/"
        },
        "id": "TkUeoLjPkhTS",
        "outputId": "1a9a2b56-76c1-4704-e357-d08a22856dff"
      },
      "execution_count": 4,
      "outputs": [
        {
          "output_type": "stream",
          "name": "stdout",
          "text": [
            "Float Tensor:\n",
            " tensor([[1., 2.],\n",
            "        [3., 4.]])\n",
            "Integer Tensor:\n",
            " tensor([[1, 2],\n",
            "        [3, 4]], dtype=torch.int32)\n",
            "Random Tensor:\n",
            " tensor([[0.2481, 0.9429, 0.9341],\n",
            "        [0.6872, 0.2918, 0.9819]])\n"
          ]
        }
      ]
    },
    {
      "cell_type": "markdown",
      "source": [
        "# **Tensor Operations**"
      ],
      "metadata": {
        "id": "BUkg-6BW4ywx"
      }
    },
    {
      "cell_type": "code",
      "source": [
        "# Element-wise operations\n",
        "a = torch.tensor([1.0, 2.0, 3.0])\n",
        "b = torch.tensor([4.0, 5.0, 6.0])\n",
        "c = a + b\n",
        "print(\"Element-wise Addition:\", c)\n",
        "\n",
        "# Example tensors for matrix multiplication\n",
        "float_tensor = torch.tensor([[1.0, 2.0], [3.0, 4.0]])  # Float tensor\n",
        "int_tensor = torch.tensor([[1, 2], [3, 4]], dtype=torch.float32)  # Convert to float\n",
        "\n",
        "# Matrix multiplication\n",
        "d = torch.matmul(float_tensor, int_tensor)\n",
        "print(\"Matrix Multiplication:\\n\", d)"
      ],
      "metadata": {
        "colab": {
          "base_uri": "https://localhost:8080/"
        },
        "id": "GN43E7KQitFf",
        "outputId": "9fbac9d1-fa60-4809-cf26-4988f6e03615"
      },
      "execution_count": 5,
      "outputs": [
        {
          "output_type": "stream",
          "name": "stdout",
          "text": [
            "Element-wise Addition: tensor([5., 7., 9.])\n",
            "Matrix Multiplication:\n",
            " tensor([[ 7., 10.],\n",
            "        [15., 22.]])\n"
          ]
        }
      ]
    },
    {
      "cell_type": "markdown",
      "source": [
        "# **Building a Neural Network**"
      ],
      "metadata": {
        "id": "G--mdMqC0Lsx"
      }
    },
    {
      "cell_type": "code",
      "source": [
        "# We'll build a more complex neural network with multiple layers.\n",
        "import torch.nn as nn\n",
        "import torch.optim as optim\n",
        "import matplotlib.pyplot as plt\n",
        "\n",
        "# Create dummy dataset\n",
        "inputs = torch.tensor([[0.0, 0.0], [0.0, 1.0], [1.0, 0.0], [1.0, 1.0]], dtype=torch.float32)\n",
        "targets = torch.tensor([[0.0], [1.0], [1.0], [0.0]], dtype=torch.float32)\n",
        "\n",
        "\n",
        "# Define the neural network class\n",
        "class AdvancedNN(nn.Module):\n",
        "    def __init__(self):\n",
        "        super(AdvancedNN, self).__init__()\n",
        "        self.layer1 = nn.Linear(2, 4)  # Input layer to hidden layer 1\n",
        "        self.layer2 = nn.Linear(4, 4)  # Hidden layer 1 to hidden layer 2\n",
        "        self.output_layer = nn.Linear(4, 1)  # Hidden layer 2 to output layer\n",
        "\n",
        "    def forward(self, x):\n",
        "        x = torch.relu(self.layer1(x))\n",
        "        x = torch.relu(self.layer2(x))\n",
        "        return self.output_layer(x)\n",
        "\n",
        "# Instantiate the model\n",
        "model = AdvancedNN()\n",
        "print(model)"
      ],
      "metadata": {
        "colab": {
          "base_uri": "https://localhost:8080/"
        },
        "id": "EoZmt1bBk4QH",
        "outputId": "10ace853-5bf8-4347-e6dd-3d96ebedb8d0"
      },
      "execution_count": 6,
      "outputs": [
        {
          "output_type": "stream",
          "name": "stdout",
          "text": [
            "AdvancedNN(\n",
            "  (layer1): Linear(in_features=2, out_features=4, bias=True)\n",
            "  (layer2): Linear(in_features=4, out_features=4, bias=True)\n",
            "  (output_layer): Linear(in_features=4, out_features=1, bias=True)\n",
            ")\n"
          ]
        }
      ]
    },
    {
      "cell_type": "markdown",
      "source": [
        "# **Training and Evaluation**"
      ],
      "metadata": {
        "id": "isStZXlc5Vgu"
      }
    },
    {
      "cell_type": "code",
      "source": [
        "# Loss and optimizer\n",
        "criterion = nn.MSELoss()\n",
        "optimizer = optim.Adam(model.parameters(), lr=0.01)\n",
        "\n",
        "# Initialize lists to store loss and accuracy values\n",
        "loss_values = []\n",
        "eval_accuracy_values = []\n",
        "\n",
        "# Training loop\n",
        "for epoch in range(200):\n",
        "    model.train()\n",
        "\n",
        "    optimizer.zero_grad()  # Zero the gradients\n",
        "    outputs = model(inputs)  # Forward pass\n",
        "    loss = criterion(outputs, targets)  # Compute loss\n",
        "    loss.backward()  # Backward pass\n",
        "    optimizer.step()  # Optimize\n",
        "\n",
        "    # Store the training loss value\n",
        "    loss_values.append(loss.item())"
      ],
      "metadata": {
        "id": "iSZD0zAUnqAg"
      },
      "execution_count": 7,
      "outputs": []
    },
    {
      "cell_type": "code",
      "source": [
        "# Function to evaluate the model and return loss and accuracy\n",
        "def evaluate_model(model, inputs, targets):\n",
        "    model.eval()  # Set the model to evaluation mode\n",
        "    with torch.no_grad():  # Disable gradient calculation\n",
        "        predictions = model(inputs)\n",
        "        loss = criterion(predictions, targets)\n",
        "\n",
        "        # Calculate accuracy\n",
        "        predicted_classes = (predictions > 0.5).float()  # Assuming binary classification\n",
        "        accuracy = (predicted_classes == targets).float().mean().item()  # Calculate accuracy\n",
        "\n",
        "        return loss.item(), accuracy"
      ],
      "metadata": {
        "id": "u5ABYdKYwgkG"
      },
      "execution_count": 8,
      "outputs": []
    },
    {
      "cell_type": "code",
      "source": [
        "# Evaluate the model at certain epochs\n",
        "if epoch % 20 == 0:\n",
        "  eval_loss, eval_accuracy = evaluate_model(model, inputs, targets)\n",
        "  eval_accuracy_values.append(eval_accuracy)\n",
        "  print(f'Epoch {epoch}, Loss: {loss.item()}, Eval Loss: {eval_loss}, Eval Accuracy: {eval_accuracy}')"
      ],
      "metadata": {
        "id": "nnPoecakwipc"
      },
      "execution_count": 9,
      "outputs": []
    },
    {
      "cell_type": "markdown",
      "source": [
        "# **Saving and Loading Models**"
      ],
      "metadata": {
        "id": "svPDdXXt5c0l"
      }
    },
    {
      "cell_type": "code",
      "source": [
        "# It's important to save the trained model for future use.\n",
        "\n",
        "# Save the model's state_dict\n",
        "torch.save(model.state_dict(), 'advanced_nn.pth')\n",
        "print(\"Model saved successfully.\")"
      ],
      "metadata": {
        "colab": {
          "base_uri": "https://localhost:8080/"
        },
        "id": "J3i5CasVn1iG",
        "outputId": "d0858ed5-855a-448b-a1b5-e998cb7932f2"
      },
      "execution_count": 10,
      "outputs": [
        {
          "output_type": "stream",
          "name": "stdout",
          "text": [
            "Model saved successfully.\n"
          ]
        }
      ]
    },
    {
      "cell_type": "code",
      "source": [
        "# Load the model\n",
        "loaded_model = AdvancedNN()\n",
        "loaded_model.load_state_dict(torch.load('advanced_nn.pth'))\n",
        "loaded_model.eval()  # Set to evaluation mode\n",
        "print(\"Model loaded successfully.\")"
      ],
      "metadata": {
        "colab": {
          "base_uri": "https://localhost:8080/"
        },
        "id": "N2bFUlKyn_Ub",
        "outputId": "68c0186d-df6b-45cf-8bb4-39ed3603a1c5"
      },
      "execution_count": 11,
      "outputs": [
        {
          "output_type": "stream",
          "name": "stdout",
          "text": [
            "Model loaded successfully.\n"
          ]
        },
        {
          "output_type": "stream",
          "name": "stderr",
          "text": [
            "<ipython-input-11-66dbaa855316>:3: FutureWarning: You are using `torch.load` with `weights_only=False` (the current default value), which uses the default pickle module implicitly. It is possible to construct malicious pickle data which will execute arbitrary code during unpickling (See https://github.com/pytorch/pytorch/blob/main/SECURITY.md#untrusted-models for more details). In a future release, the default value for `weights_only` will be flipped to `True`. This limits the functions that could be executed during unpickling. Arbitrary objects will no longer be allowed to be loaded via this mode unless they are explicitly allowlisted by the user via `torch.serialization.add_safe_globals`. We recommend you start setting `weights_only=True` for any use case where you don't have full control of the loaded file. Please open an issue on GitHub for any issues related to this experimental feature.\n",
            "  loaded_model.load_state_dict(torch.load('advanced_nn.pth'))\n"
          ]
        }
      ]
    },
    {
      "cell_type": "markdown",
      "source": [
        "# **Visualization**"
      ],
      "metadata": {
        "id": "XpiBjbak4YKR"
      }
    },
    {
      "cell_type": "code",
      "source": [
        "# Function to plot loss and accuracy\n",
        "import matplotlib.pyplot as plt\n",
        "def plot_loss_and_accuracy(loss_values, accuracy_values):\n",
        "  fig, ax1 = plt.subplots()\n",
        "  ax2 = ax1.twinx()  # Create a second y-axis\n",
        "  ax1.plot(loss_values, 'g-', label='Loss')\n",
        "  ax1.set_xlabel(\"Epochs\")\n",
        "  ax1.set_ylabel(\"Loss\", color='g')\n",
        "  ax1.tick_params(axis='y', labelcolor='g')\n",
        "  ax1.set_title(\"Training Loss and Evaluation Accuracy\")\n",
        "  ax2.plot(range(0, len(accuracy_values) * 20, 20), accuracy_values, 'b-', label='Accuracy')\n",
        "  ax2.set_ylabel(\"Accuracy\", color='b')\n",
        "  ax2.tick_params(axis='y', labelcolor='b')\n",
        "  plt.show()\n",
        "\n",
        "# After training, plot the loss and accuracy values\n",
        "plot_loss_and_accuracy(loss_values, eval_accuracy_values)"
      ],
      "metadata": {
        "colab": {
          "base_uri": "https://localhost:8080/",
          "height": 492
        },
        "id": "lT6oyoJw4WGi",
        "outputId": "aa524973-e403-4655-db11-ee835d464f63"
      },
      "execution_count": 12,
      "outputs": [
        {
          "output_type": "display_data",
          "data": {
            "text/plain": [
              "<Figure size 640x480 with 2 Axes>"
            ],
            "image/png": "[encoded data removed]"
          },
          "metadata": {}
        }
      ]
    },
    {
      "cell_type": "markdown",
      "source": [
        "# **Using GPU**"
      ],
      "metadata": {
        "id": "PyzptZkU4GnE"
      }
    },
    {
      "cell_type": "code",
      "source": [
        "# Check if GPU is available\n",
        "device = torch.device(\"cuda\" if torch.cuda.is_available() else \"cpu\")\n",
        "model.to(device)\n",
        "inputs = inputs.to(device)\n",
        "targets = targets.to(device)\n",
        "\n",
        "# Training loop on GPU\n",
        "for epoch in range(200):\n",
        "    model.train()\n",
        "\n",
        "    optimizer.zero_grad()  # Zero the gradients\n",
        "    outputs = model(inputs)  # Forward pass\n",
        "    loss = criterion(outputs, targets)  # Compute loss\n",
        "    loss.backward()  # Backward pass\n",
        "    optimizer.step()  # Optimize\n",
        "\n",
        "    if epoch % 20 == 0:\n",
        "        print(f'Epoch {epoch}, Loss: {loss.item()} on {device}')\n"
      ],
      "metadata": {
        "colab": {
          "base_uri": "https://localhost:8080/"
        },
        "id": "aox4ZoNfoCox",
        "outputId": "5b5a9f30-d379-4309-9f1b-61a1bbc82670"
      },
      "execution_count": 13,
      "outputs": [
        {
          "output_type": "stream",
          "name": "stdout",
          "text": [
            "Epoch 0, Loss: 1.3293435685568511e-08 on cpu\n",
            "Epoch 20, Loss: 7.324967299382479e-10 on cpu\n",
            "Epoch 40, Loss: 7.430234205685338e-11 on cpu\n",
            "Epoch 60, Loss: 1.3306689083947276e-11 on cpu\n",
            "Epoch 80, Loss: 5.444533712761768e-13 on cpu\n",
            "Epoch 100, Loss: 2.495781359357352e-13 on cpu\n",
            "Epoch 120, Loss: 2.6645352591003757e-14 on cpu\n",
            "Epoch 140, Loss: 8.881784197001252e-16 on cpu\n",
            "Epoch 160, Loss: 0.0 on cpu\n",
            "Epoch 180, Loss: 0.0 on cpu\n"
          ]
        }
      ]
    },
    {
      "cell_type": "code",
      "source": [
        "## Function to plot loss and accuracy\n",
        "\n",
        "def plot_loss_and_accuracy(loss_values, accuracy_values):\n",
        "  fig, ax1 = plt.subplots()\n",
        "  ax2 = ax1.twinx()  # Create a second y-axis\n",
        "  ax1.plot(loss_values, 'g-', label='Loss')\n",
        "  ax1.set_xlabel(\"Epochs\")\n",
        "  ax1.set_ylabel(\"Loss\", color='g')\n",
        "  ax1.tick_params(axis='y', labelcolor='g')\n",
        "  ax1.set_title(\"Training Loss and Evaluation Accuracy\")\n",
        "  ax2.plot(range(0, len(accuracy_values) * 20, 20), accuracy_values, 'b-', label='Accuracy')\n",
        "  ax2.set_ylabel(\"Accuracy\", color='b')\n",
        "  ax2.tick_params(axis='y', labelcolor='b')\n",
        "  plt.show()\n",
        "\n",
        "# After training, plot the loss and accuracy values\n",
        "plot_loss_and_accuracy(loss_values, eval_accuracy_values)"
      ],
      "metadata": {
        "colab": {
          "base_uri": "https://localhost:8080/",
          "height": 492
        },
        "id": "aKOrtNF5r0xY",
        "outputId": "6bf46ac5-55c4-45dd-fae9-efac20475019"
      },
      "execution_count": 14,
      "outputs": [
        {
          "output_type": "display_data",
          "data": {
            "text/plain": [
              "<Figure size 640x480 with 2 Axes>"
            ],
            "image/png": "[encoded data removed]"
          },
          "metadata": {}
        }
      ]
    },
    {
      "cell_type": "code",
      "source": [],
      "metadata": {
        "id": "v3NgTyBB2On3"
      },
      "execution_count": 14,
      "outputs": []
    }
  ]
}